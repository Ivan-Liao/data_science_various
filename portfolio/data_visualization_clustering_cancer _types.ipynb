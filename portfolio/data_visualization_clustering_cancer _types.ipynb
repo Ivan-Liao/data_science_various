{
  "nbformat": 4,
  "nbformat_minor": 0,
  "metadata": {
    "anaconda-cloud": {},
    "kernelspec": {
      "display_name": "Python 3",
      "language": "python",
      "name": "python3"
    },
    "language_info": {
      "codemirror_mode": {
        "name": "ipython",
        "version": 3
      },
      "file_extension": ".py",
      "mimetype": "text/x-python",
      "name": "python",
      "nbconvert_exporter": "python",
      "pygments_lexer": "ipython3",
      "version": "3.6.6"
    },
    "toc": {
      "nav_menu": {},
      "number_sections": false,
      "sideBar": true,
      "skip_h1_title": false,
      "title_cell": "Table of Contents",
      "title_sidebar": "Contents",
      "toc_cell": false,
      "toc_position": {},
      "toc_section_display": true,
      "toc_window_display": false
    },
    "varInspector": {
      "cols": {
        "lenName": 16,
        "lenType": 16,
        "lenVar": 40
      },
      "kernels_config": {
        "python": {
          "delete_cmd_postfix": "",
          "delete_cmd_prefix": "del ",
          "library": "var_list.py",
          "varRefreshCmd": "print(var_dic_list())"
        },
        "r": {
          "delete_cmd_postfix": ") ",
          "delete_cmd_prefix": "rm(",
          "library": "var_list.r",
          "varRefreshCmd": "cat(var_dic_list()) "
        }
      },
      "types_to_exclude": [
        "module",
        "function",
        "builtin_function_or_method",
        "instance",
        "_Feature"
      ],
      "window_display": false
    },
    "colab": {
      "name": "Data Mining Project_Clustering",
      "provenance": [],
      "collapsed_sections": []
    }
  },
  "cells": [
    {
      "cell_type": "markdown",
      "metadata": {
        "id": "Ln2c_s-EIGGs"
      },
      "source": [
        "<hr/>\n",
        "\n",
        "# Dependencies\n",
        "\n",
        "<hr/>"
      ]
    },
    {
      "cell_type": "code",
      "metadata": {
        "id": "l2KFMkLmIGGw"
      },
      "source": [
        "# Calculation Dependencies\n",
        "\n",
        "import numpy as np\n",
        "from sklearn.cluster import KMeans\n",
        "from sklearn.mixture import GaussianMixture\n",
        "from sklearn.cluster import SpectralClustering\n",
        "\n",
        "# Plotting Dependencies\n",
        "from sklearn import datasets\n",
        "import matplotlib.pyplot as plt\n",
        "\n",
        "# Preprocessing dependencies\n",
        "import csv\n",
        "import pandas as pd\n",
        "from sklearn.decomposition import PCA\n",
        "from sklearn.preprocessing import StandardScaler\n",
        "from sklearn.model_selection import KFold\n",
        "\n",
        "# # maybe useful in future\n",
        "# from sklearn.metrics import silhouette_samples, silhouette_score\n",
        "# from mpl_toolkits.mplot3d import Axes3D"
      ],
      "execution_count": null,
      "outputs": []
    },
    {
      "cell_type": "markdown",
      "metadata": {
        "id": "3b24JUkaJoK9"
      },
      "source": [
        "<hr/>\n",
        "\n",
        "#  Helper Functions\n",
        "\n",
        "\n",
        "\n",
        "1.   plot_features - 2d plotting any data array with shape (num_examples, num_features)\n",
        "2.   PCA_iterative - PCA dimensionality reduction based on desired threshold for the explanation of variance\n",
        "3.   kmeans_clustering - performs kmeans clustering based on desired number of clusters \n",
        "\n",
        "\n",
        "\n",
        "<hr/>"
      ]
    },
    {
      "cell_type": "code",
      "metadata": {
        "id": "HNkEByiCqwnb"
      },
      "source": [
        "# function that plots every feature against each other\n",
        "def plot_features(data, labels):\n",
        "  \"\"\"\n",
        "  input args:\n",
        "    data = numpy array where rows are number of examples and columns are number of features\n",
        "\n",
        "  \n",
        "  rows are in order by features 1, 2, ...num_features-1 \n",
        "  plotted against every other features that hasn't already been plotted\n",
        "  e.g. row 1 is feature 1 versus 2, 1 versus 3, ...,1 versus num_features\n",
        "  e.g. row 5 is features 5 versus 6, feature 6 versus 7, ..., 5 versus num_features\n",
        "  \"\"\"\n",
        "  num_feature = data.shape[1]\n",
        "  plt.figure(figsize=(num_feature*4,num_feature*4));\n",
        "  for i in range(num_feature):\n",
        "    for j in range(i+1,num_feature):\n",
        "      plt.subplot(num_feature,num_feature,i*num_feature+j-i+1)\n",
        "      plt.scatter(data[:,i],data[:,j],c=labels, label = ('feature ', (i+1), 'versus ', (j+1)), cmap = 'coolwarm')\n",
        "      plt.legend()\n",
        "  plt.show()\n"
      ],
      "execution_count": null,
      "outputs": []
    },
    {
      "cell_type": "code",
      "metadata": {
        "id": "mPhqtVe3LIk3"
      },
      "source": [
        "# Preprocessing, note whitening is set to be true\n",
        "# PCA and whitening\n",
        "def PCA_iterative(data, test_data, whiten_bool = 'True', n = 0):\n",
        "  \"\"\"\n",
        "  \"\"\"\n",
        "\n",
        "  pca = PCA(n_components = n, whiten=whiten_bool)\n",
        "  B = pca.fit_transform(data) \n",
        "  C = pca.fit_transform(test_data)\n",
        "  L = pca.explained_variance_\n",
        "  cl=np.cumsum(L); \n",
        "\n",
        "  # PCA scree plot\n",
        "  plt.subplot(111); \n",
        "  plt.ylabel('Total Variance');\n",
        "  plt.xlabel('Principal component')\n",
        "  plt.plot(np.arange(1,L.shape[0]+1),cl/cl[-1],'o-r'); \n",
        "  plt.ylim(0,None);\n",
        "\n",
        "  B_6 = B[:,:9]\n",
        "  C_6 = C[:,:9]\n",
        "  print('selected first 3 components with ', cl[9]/cl[-1], ' explained variance')\n",
        "  return B_6, C_6\n"
      ],
      "execution_count": null,
      "outputs": []
    },
    {
      "cell_type": "code",
      "metadata": {
        "id": "rQj-YbofS5Dp"
      },
      "source": [
        "def pseudolabel_unscrambler(label, cluster_label):\n",
        "  \"\"\"\n",
        "  pseudolabels of classes get randomly assigned. This function best matches\n",
        "  the pseudolabels to the original ground truth labels.\n",
        "  \"\"\"\n",
        "  num_class = (np.max(label) + 1).astype('int')\n",
        "  true_class = []\n",
        "  for i in range(num_class):\n",
        "    best_accuracy = 0\n",
        "    for j in range(num_class):\n",
        "      current_accuracy = ((cluster_label == i) == (label == j)).mean()\n",
        "      if current_accuracy > best_accuracy:\n",
        "        if best_accuracy == 0:\n",
        "          best_accuracy = current_accuracy\n",
        "          true_class.append(j)\n",
        "        else:\n",
        "          best_accuracy = current_accuracy\n",
        "          true_class[-1] = j\n",
        "\n",
        "  temp_cluster_label = np.copy(cluster_label)\n",
        "  for i in range(len(true_class)):\n",
        "    cluster_label[(temp_cluster_label == i)] = true_class[i]\n",
        "  return cluster_label\n"
      ],
      "execution_count": null,
      "outputs": []
    },
    {
      "cell_type": "code",
      "metadata": {
        "id": "mj0G0TngIGG6"
      },
      "source": [
        "def kmeans_clustering(num_cluster, data, test_data, label,test_label, label_bool = False, plot_bool = True):\n",
        "  print('\\n\\ninitializing kmeans clustering')\n",
        "  kmeans = KMeans(init='random', n_clusters=num_cluster, n_init=10).fit(data)\n",
        "  # list of scores from kmeans method (negative sum of distance squared from cluster center)\n",
        "  cluster_label, inertia = kmeans.predict(test_data), kmeans.inertia_\n",
        "\n",
        "  if plot_bool == True:\n",
        "    print('plots of clusters with true labels')\n",
        "    plot_features(test_data, test_label)\n",
        "  if label_bool == True:\n",
        "    cluster_label = pseudolabel_unscrambler(test_label, cluster_label)\n",
        "    if plot_bool == True:\n",
        "      print('plots of clusters with pseudolabels')\n",
        "      plot_features(test_data, cluster_label)\n",
        "    accuracy = (cluster_label == test_label).mean()\n",
        "    print('kmeans clustering accuracy is ', accuracy)\n",
        "  print('inertia is ', inertia)\n",
        "  return cluster_label\n"
      ],
      "execution_count": null,
      "outputs": []
    },
    {
      "cell_type": "code",
      "metadata": {
        "id": "F5r2wUEv5rGY"
      },
      "source": [
        "def gmm_clustering(num_cluster, data, test_data, label, test_label, label_bool = False, plot_bool = True):\n",
        "  print('\\n\\ninitializing gmm clustering')\n",
        "  gmm = GaussianMixture(init_params = 'random', random_state = 3, covariance_type = 'tied', n_components=num_cluster, n_init=100, max_iter = 1000).fit(data)\n",
        "  cluster_label, score = gmm.predict(test_data), gmm.score(data)\n",
        "\n",
        "  # plots 2D slices of the features\n",
        "  if plot_bool == True:\n",
        "    print('plots of clusters with true labels')\n",
        "    plot_features(test_data, test_label)\n",
        "  if label_bool == True:\n",
        "    cluster_label = pseudolabel_unscrambler(test_label, cluster_label)\n",
        "    if plot_bool == True:\n",
        "      print('plots of clusters with pseudolabels')\n",
        "      plot_features(test_data, cluster_label)\n",
        "    accuracy = (cluster_label == test_label).mean()\n",
        "    print('gmm clustering accuracy is ', accuracy)\n",
        "  print('score is ', score)\n",
        "  return cluster_label"
      ],
      "execution_count": null,
      "outputs": []
    },
    {
      "cell_type": "code",
      "metadata": {
        "id": "9lnzX3jvpzH7"
      },
      "source": [
        "def spec_clustering(num_cluster, data, test_data, label, test_label, mode, nn = 11, label_bool = False, plot_bool = True):\n",
        "  print('\\n\\ninitializing spectral clustering with ',mode)\n",
        "  if mode == 'gaussian':\n",
        "    spectral = SpectralClustering(random_state = 3, n_clusters=num_cluster, affinity = 'rbf', gamma = .1).fit(data)\n",
        "    # list of scores from kmeans method (negative sum of distance squared from cluster center)\n",
        "    cluster_label = spectral.fit_predict(test_data)\n",
        "\n",
        "  elif mode == 'knn':\n",
        "    spectral = SpectralClustering(random_state = 3, n_clusters=num_cluster, affinity = 'nearest_neighbors', n_neighbors = nn).fit(data) \n",
        "    # list of scores from kmeans method (negative sum of distance squared from cluster center)\n",
        "    cluster_label = spectral.fit_predict(test_data)\n",
        "\n",
        "  # plots 2D slices of the features\n",
        "  if plot_bool == True:\n",
        "    print('plots of clusters with true labels')\n",
        "    plot_features(test_data, test_label)\n",
        "  if label_bool == True:\n",
        "    cluster_label = pseudolabel_unscrambler(test_label, cluster_label)\n",
        "    if plot_bool == True:\n",
        "      print('plots of clusters with pseudolabels')\n",
        "      plot_features(test_data, cluster_label)\n",
        "    accuracy = (cluster_label == test_label).mean()\n",
        "    print(mode, 'spectral clustering accuracy is ', accuracy)\n",
        "  return cluster_label"
      ],
      "execution_count": null,
      "outputs": []
    },
    {
      "cell_type": "code",
      "metadata": {
        "id": "0RuKA_Fk-lCz"
      },
      "source": [
        "# main function that performs preprocessing, kmeans clustering, gaussian mixture clustering, and spectral clustering\n",
        "def experiment_main(num_cluster, data_unprocessed, test_data_unprocessed, label, test_label, preprocess=False, label_bool = False, plot_bool=True):\n",
        "  # PCA preprocessing\n",
        "  if preprocess == True:\n",
        "    data, test_data = PCA_iterative(data_unprocessed, test_data_unprocessed, n = 30)\n",
        "  else:\n",
        "    data = data_unprocessed\n",
        "    test_data = test_data_unprocessed\n",
        "  # clustering functions\n",
        "  kmeans_labels = kmeans_clustering(num_cluster, data, test_data, label, test_label, label_bool = label_bool, plot_bool = plot_bool)\n",
        "  gmm_labels = gmm_clustering(num_cluster, data, test_data, label, test_label, label_bool = label_bool, plot_bool = plot_bool)\n",
        "  spec_gaussian_labels = spec_clustering(num_cluster, data, test_data, label, test_label, mode = 'gaussian', label_bool = label_bool, plot_bool = plot_bool)\n",
        "  spec_knn_labels = spec_clustering(num_cluster, data, test_data, label, test_label, mode = 'knn', nn = 5, label_bool = label_bool, plot_bool = plot_bool)\n",
        "\n",
        "  # np.savetxt('kmeans_labels.csv', np.column_stack((data_id,kmeans_labels.astype('str'))), delimiter = ',',  fmt=\"%s\")\n",
        "  # np.savetxt('gmm_labels.csv', np.column_stack((data_id,gmm_labels.astype('str'))),delimiter = ',',  fmt=\"%s\")\n",
        "  # np.savetxt('spec_gaussian_labels.csv', np.column_stack((data_id,spec_gaussian_labels.astype('str'))),delimiter = ',',  fmt=\"%s\")\n",
        "  # np.savetxt('spec_knn_labels.csv', np.column_stack((data,spec_knn_labels.astype('str'))),delimiter = ',',  fmt=\"%s\")"
      ],
      "execution_count": null,
      "outputs": []
    },
    {
      "cell_type": "code",
      "metadata": {
        "id": "9ERAJ1bCAOSB",
        "colab": {
          "base_uri": "https://localhost:8080/",
          "height": 387
        },
        "outputId": "2327a8e9-de14-4e9d-8533-f12fb5c077d7"
      },
      "source": [
        "data_file = np.genfromtxt('data.csv', delimiter = \",\", skip_header = True, dtype='str')\n",
        "for i in range(len(data_file)):\n",
        "  if data_file[i][1] == 'M':\n",
        "    data_file[i][1] = 1\n",
        "  elif data_file[i][1] == 'B':\n",
        "    data_file[i][1] = 0\n",
        "data_file = data_file.astype('float')\n",
        "label = data_file[:450,1]\n",
        "train_data = data_file[:450,2:]\n",
        "data_id = data_file[:,0]\n",
        "test_data = data_file[450:,2:]\n",
        "test_label = data_file[450:,1]\n",
        "\n",
        "print(data_file.shape)\n",
        "\n",
        "scaler = StandardScaler()\n",
        "scaler.fit(train_data)\n",
        "train_data = scaler.transform(train_data)\n",
        "scaler = StandardScaler()\n",
        "scaler.fit(test_data)\n",
        "test_data = scaler.transform(test_data)\n",
        "\n",
        "### hyperparameters\n",
        "num_cluster = 2\n",
        "\n",
        "experiment_main(num_cluster, train_data, test_data, label, test_label, preprocess=True, label_bool = True, plot_bool = False)"
      ],
      "execution_count": null,
      "outputs": [
        {
          "output_type": "error",
          "ename": "OSError",
          "evalue": "ignored",
          "traceback": [
            "\u001b[0;31m---------------------------------------------------------------------------\u001b[0m",
            "\u001b[0;31mOSError\u001b[0m                                   Traceback (most recent call last)",
            "\u001b[0;32m<ipython-input-9-e0e13ba2b067>\u001b[0m in \u001b[0;36m<module>\u001b[0;34m()\u001b[0m\n\u001b[0;32m----> 1\u001b[0;31m \u001b[0mdata_file\u001b[0m \u001b[0;34m=\u001b[0m \u001b[0mnp\u001b[0m\u001b[0;34m.\u001b[0m\u001b[0mgenfromtxt\u001b[0m\u001b[0;34m(\u001b[0m\u001b[0;34m'data.csv'\u001b[0m\u001b[0;34m,\u001b[0m \u001b[0mdelimiter\u001b[0m \u001b[0;34m=\u001b[0m \u001b[0;34m\",\"\u001b[0m\u001b[0;34m,\u001b[0m \u001b[0mskip_header\u001b[0m \u001b[0;34m=\u001b[0m \u001b[0;32mTrue\u001b[0m\u001b[0;34m,\u001b[0m \u001b[0mdtype\u001b[0m\u001b[0;34m=\u001b[0m\u001b[0;34m'str'\u001b[0m\u001b[0;34m)\u001b[0m\u001b[0;34m\u001b[0m\u001b[0;34m\u001b[0m\u001b[0m\n\u001b[0m\u001b[1;32m      2\u001b[0m \u001b[0;32mfor\u001b[0m \u001b[0mi\u001b[0m \u001b[0;32min\u001b[0m \u001b[0mrange\u001b[0m\u001b[0;34m(\u001b[0m\u001b[0mlen\u001b[0m\u001b[0;34m(\u001b[0m\u001b[0mdata_file\u001b[0m\u001b[0;34m)\u001b[0m\u001b[0;34m)\u001b[0m\u001b[0;34m:\u001b[0m\u001b[0;34m\u001b[0m\u001b[0;34m\u001b[0m\u001b[0m\n\u001b[1;32m      3\u001b[0m   \u001b[0;32mif\u001b[0m \u001b[0mdata_file\u001b[0m\u001b[0;34m[\u001b[0m\u001b[0mi\u001b[0m\u001b[0;34m]\u001b[0m\u001b[0;34m[\u001b[0m\u001b[0;36m1\u001b[0m\u001b[0;34m]\u001b[0m \u001b[0;34m==\u001b[0m \u001b[0;34m'M'\u001b[0m\u001b[0;34m:\u001b[0m\u001b[0;34m\u001b[0m\u001b[0;34m\u001b[0m\u001b[0m\n\u001b[1;32m      4\u001b[0m     \u001b[0mdata_file\u001b[0m\u001b[0;34m[\u001b[0m\u001b[0mi\u001b[0m\u001b[0;34m]\u001b[0m\u001b[0;34m[\u001b[0m\u001b[0;36m1\u001b[0m\u001b[0;34m]\u001b[0m \u001b[0;34m=\u001b[0m \u001b[0;36m1\u001b[0m\u001b[0;34m\u001b[0m\u001b[0;34m\u001b[0m\u001b[0m\n\u001b[1;32m      5\u001b[0m   \u001b[0;32melif\u001b[0m \u001b[0mdata_file\u001b[0m\u001b[0;34m[\u001b[0m\u001b[0mi\u001b[0m\u001b[0;34m]\u001b[0m\u001b[0;34m[\u001b[0m\u001b[0;36m1\u001b[0m\u001b[0;34m]\u001b[0m \u001b[0;34m==\u001b[0m \u001b[0;34m'B'\u001b[0m\u001b[0;34m:\u001b[0m\u001b[0;34m\u001b[0m\u001b[0;34m\u001b[0m\u001b[0m\n",
            "\u001b[0;32m/usr/local/lib/python3.6/dist-packages/numpy/lib/npyio.py\u001b[0m in \u001b[0;36mgenfromtxt\u001b[0;34m(fname, dtype, comments, delimiter, skip_header, skip_footer, converters, missing_values, filling_values, usecols, names, excludelist, deletechars, replace_space, autostrip, case_sensitive, defaultfmt, unpack, usemask, loose, invalid_raise, max_rows, encoding)\u001b[0m\n\u001b[1;32m   1757\u001b[0m             \u001b[0mfname\u001b[0m \u001b[0;34m=\u001b[0m \u001b[0mos_fspath\u001b[0m\u001b[0;34m(\u001b[0m\u001b[0mfname\u001b[0m\u001b[0;34m)\u001b[0m\u001b[0;34m\u001b[0m\u001b[0;34m\u001b[0m\u001b[0m\n\u001b[1;32m   1758\u001b[0m         \u001b[0;32mif\u001b[0m \u001b[0misinstance\u001b[0m\u001b[0;34m(\u001b[0m\u001b[0mfname\u001b[0m\u001b[0;34m,\u001b[0m \u001b[0mbasestring\u001b[0m\u001b[0;34m)\u001b[0m\u001b[0;34m:\u001b[0m\u001b[0;34m\u001b[0m\u001b[0;34m\u001b[0m\u001b[0m\n\u001b[0;32m-> 1759\u001b[0;31m             \u001b[0mfid\u001b[0m \u001b[0;34m=\u001b[0m \u001b[0mnp\u001b[0m\u001b[0;34m.\u001b[0m\u001b[0mlib\u001b[0m\u001b[0;34m.\u001b[0m\u001b[0m_datasource\u001b[0m\u001b[0;34m.\u001b[0m\u001b[0mopen\u001b[0m\u001b[0;34m(\u001b[0m\u001b[0mfname\u001b[0m\u001b[0;34m,\u001b[0m \u001b[0;34m'rt'\u001b[0m\u001b[0;34m,\u001b[0m \u001b[0mencoding\u001b[0m\u001b[0;34m=\u001b[0m\u001b[0mencoding\u001b[0m\u001b[0;34m)\u001b[0m\u001b[0;34m\u001b[0m\u001b[0;34m\u001b[0m\u001b[0m\n\u001b[0m\u001b[1;32m   1760\u001b[0m             \u001b[0mfid_ctx\u001b[0m \u001b[0;34m=\u001b[0m \u001b[0mcontextlib\u001b[0m\u001b[0;34m.\u001b[0m\u001b[0mclosing\u001b[0m\u001b[0;34m(\u001b[0m\u001b[0mfid\u001b[0m\u001b[0;34m)\u001b[0m\u001b[0;34m\u001b[0m\u001b[0;34m\u001b[0m\u001b[0m\n\u001b[1;32m   1761\u001b[0m         \u001b[0;32melse\u001b[0m\u001b[0;34m:\u001b[0m\u001b[0;34m\u001b[0m\u001b[0;34m\u001b[0m\u001b[0m\n",
            "\u001b[0;32m/usr/local/lib/python3.6/dist-packages/numpy/lib/_datasource.py\u001b[0m in \u001b[0;36mopen\u001b[0;34m(path, mode, destpath, encoding, newline)\u001b[0m\n\u001b[1;32m    267\u001b[0m \u001b[0;34m\u001b[0m\u001b[0m\n\u001b[1;32m    268\u001b[0m     \u001b[0mds\u001b[0m \u001b[0;34m=\u001b[0m \u001b[0mDataSource\u001b[0m\u001b[0;34m(\u001b[0m\u001b[0mdestpath\u001b[0m\u001b[0;34m)\u001b[0m\u001b[0;34m\u001b[0m\u001b[0;34m\u001b[0m\u001b[0m\n\u001b[0;32m--> 269\u001b[0;31m     \u001b[0;32mreturn\u001b[0m \u001b[0mds\u001b[0m\u001b[0;34m.\u001b[0m\u001b[0mopen\u001b[0m\u001b[0;34m(\u001b[0m\u001b[0mpath\u001b[0m\u001b[0;34m,\u001b[0m \u001b[0mmode\u001b[0m\u001b[0;34m,\u001b[0m \u001b[0mencoding\u001b[0m\u001b[0;34m=\u001b[0m\u001b[0mencoding\u001b[0m\u001b[0;34m,\u001b[0m \u001b[0mnewline\u001b[0m\u001b[0;34m=\u001b[0m\u001b[0mnewline\u001b[0m\u001b[0;34m)\u001b[0m\u001b[0;34m\u001b[0m\u001b[0;34m\u001b[0m\u001b[0m\n\u001b[0m\u001b[1;32m    270\u001b[0m \u001b[0;34m\u001b[0m\u001b[0m\n\u001b[1;32m    271\u001b[0m \u001b[0;34m\u001b[0m\u001b[0m\n",
            "\u001b[0;32m/usr/local/lib/python3.6/dist-packages/numpy/lib/_datasource.py\u001b[0m in \u001b[0;36mopen\u001b[0;34m(self, path, mode, encoding, newline)\u001b[0m\n\u001b[1;32m    621\u001b[0m                                       encoding=encoding, newline=newline)\n\u001b[1;32m    622\u001b[0m         \u001b[0;32melse\u001b[0m\u001b[0;34m:\u001b[0m\u001b[0;34m\u001b[0m\u001b[0;34m\u001b[0m\u001b[0m\n\u001b[0;32m--> 623\u001b[0;31m             \u001b[0;32mraise\u001b[0m \u001b[0mIOError\u001b[0m\u001b[0;34m(\u001b[0m\u001b[0;34m\"%s not found.\"\u001b[0m \u001b[0;34m%\u001b[0m \u001b[0mpath\u001b[0m\u001b[0;34m)\u001b[0m\u001b[0;34m\u001b[0m\u001b[0;34m\u001b[0m\u001b[0m\n\u001b[0m\u001b[1;32m    624\u001b[0m \u001b[0;34m\u001b[0m\u001b[0m\n\u001b[1;32m    625\u001b[0m \u001b[0;34m\u001b[0m\u001b[0m\n",
            "\u001b[0;31mOSError\u001b[0m: data.csv not found."
          ]
        }
      ]
    },
    {
      "cell_type": "code",
      "metadata": {
        "id": "bfd2oPr4R64G"
      },
      "source": [
        "# test = np.loadtxt('kmeans_labels', delimiter = \",\", dtype = 'str')\n",
        "# print(test[0])"
      ],
      "execution_count": null,
      "outputs": []
    },
    {
      "cell_type": "code",
      "metadata": {
        "id": "Tv7GyPVXLFAR"
      },
      "source": [
        "#   unfinished code for finding optimal clusters \n",
        "#   def kmeans_clustering(data):\n",
        "#   # the numbers of clusters to check\n",
        "#   cluster_array = np.arange(1,20)\n",
        "#   # list of kmeans models for each # of cluster in cluster_array\n",
        "#   score = []\n",
        "#   for i in cluster_array:\n",
        "#     kmeans = KMeans(init='random', n_clusters=i, n_init=100) \n",
        "#     # list of scores from kmeans method (negative sum of distance squared from cluster center)\n",
        "#     cluster_labels = kmeans.fit_predict(X)\n",
        "#     score.append(kmeans.fit(data).score(data))\n",
        "\n",
        "#   plt.plot(cluster_array, score)\n",
        "\n",
        "#   # figure(figsize=(6,6)); ax=subplot(aspect='equal')\n",
        "#   # scatter(X[:,0],X[:,1],c=kmeans.labels_,cmap=cm.rainbow);\n",
        "\n",
        "#   # C = kmeans.cluster_centers_\n",
        "#   # scatter(C[:,0],C[:,1],c='k',marker='o',s=300,alpha=0.5,edgecolor='none')\n",
        "\n",
        "\n",
        "\n",
        "\n",
        "\n",
        "\n",
        "\n",
        "# # uses KFold to get a 80/20 train/test split\n",
        "# k_fold = KFold(n_splits=5, shuffle=True) \n",
        "# for k, (train, test) in enumerate(k_fold.split(X)):\n",
        "#   train_data = data[train]\n",
        "#   test_data = data[test]\n",
        "#   train_label = label[train]\n",
        "#   test_label = label[test]\n",
        "#   break\n",
        "\n",
        "\n",
        "\n",
        "\n",
        "\n",
        "\n",
        "\n",
        "\n",
        "\n",
        "\n",
        "\n",
        "\n",
        "\n",
        "\n",
        "# # standardization with 0 mean and 1 stdev\n",
        "# scaler = StandardScaler()\n",
        "# scaler.fit(data)\n",
        "# data = scaler.transform(data)"
      ],
      "execution_count": null,
      "outputs": []
    }
  ]
}
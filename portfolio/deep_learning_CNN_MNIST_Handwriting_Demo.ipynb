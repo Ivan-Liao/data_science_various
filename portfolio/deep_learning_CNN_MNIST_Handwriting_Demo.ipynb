{
  "nbformat": 4,
  "nbformat_minor": 0,
  "metadata": {
    "colab": {
      "name": "CNN_MNIST_Handwriting_Demo.ipynb",
      "provenance": [],
      "collapsed_sections": []
    },
    "kernelspec": {
      "name": "python3",
      "display_name": "Python 3"
    },
    "accelerator": "GPU"
  },
  "cells": [
    {
      "cell_type": "markdown",
      "metadata": {
        "id": "iCZkchkZVsJ-"
      },
      "source": [
        "Common Google Colab Keyboard shortcuts:\n",
        "\n",
        "Ctrl + F9: Run all\n",
        "\n",
        "Ctrl + Enter: Run the selected cell\n",
        "\n",
        "Ctrl + M B: Create cell below"
      ]
    },
    {
      "cell_type": "markdown",
      "metadata": {
        "id": "GLaCAq86cdG7"
      },
      "source": [
        "# Understanding the convolutional neural network"
      ]
    },
    {
      "cell_type": "markdown",
      "metadata": {
        "id": "hvlwbu1rR-Fb"
      },
      "source": [
        "![alt text](https://miro.medium.com/max/1204/1*TVu5hyywTrUsCAkfJbVHQw.png)"
      ]
    },
    {
      "cell_type": "markdown",
      "metadata": {
        "id": "SJsi_CFXcNqd"
      },
      "source": [
        "1) each layer in a Convolutional Neural Network (CNN) focuses on more fundamental features like edges in earlier layers to more complex features like shapes in the later layers\n",
        "\n",
        "2) each node in the CNN runs a small subsection (e.g. 3 pixel by 3 pixel subsection) over the entire image and checks how well it matches\n",
        "\n",
        "3) because the CNN convolves the subsections/nodes with the original data, it is especially well suited for tasks related to images"
      ]
    },
    {
      "cell_type": "markdown",
      "metadata": {
        "id": "C8eINsTwVL1w"
      },
      "source": [
        "# Set up the coding environment"
      ]
    },
    {
      "cell_type": "code",
      "metadata": {
        "id": "rdd8jhKzEOhg"
      },
      "source": [
        "# computation dependancies\n",
        "import torch # used to import data\n",
        "import torch.nn as nn # used to define neural network\n",
        "import torch.nn.functional as F # used for activation functions\n",
        "import numpy as np\n",
        "\n",
        "# preprocessing dependancies\n",
        "import torchvision\n",
        "\n",
        "# visualization dependancies\n",
        "import matplotlib.pyplot as plt\n",
        "\n",
        "assert torch.cuda.is_available()\n",
        "precision = 4\n",
        "torch.set_printoptions(precision,sci_mode=False) # 4 digits of precision\n",
        "np.set_printoptions(precision,suppress=True) # 4 digits of precision and suppresses unecessary print output"
      ],
      "execution_count": 1,
      "outputs": []
    },
    {
      "cell_type": "markdown",
      "metadata": {
        "id": "a4tkcMjoVO8P"
      },
      "source": [
        "# Download the dataset online"
      ]
    },
    {
      "cell_type": "code",
      "metadata": {
        "id": "Ehjo3wqETNN4"
      },
      "source": [
        "# downloads data from torchvision dataset\n",
        "official_mnist_train = torchvision.datasets.MNIST(root = 'HOME/data/mnist', train=True, download=True);\n",
        "# converts training data into a numpy array with type float32\n",
        "official_train_images = official_mnist_train.data.numpy().astype(np.float32);\n",
        "# converts training labels into a numpy array with type int\n",
        "official_train_labels = official_mnist_train.targets.numpy().astype(np.int);"
      ],
      "execution_count": 2,
      "outputs": []
    },
    {
      "cell_type": "markdown",
      "metadata": {
        "id": "PYufaBa1WJe9"
      },
      "source": [
        "# Explore the dataset"
      ]
    },
    {
      "cell_type": "markdown",
      "metadata": {
        "id": "EXPB7L_NWNHM"
      },
      "source": [
        "### How many images are there?"
      ]
    },
    {
      "cell_type": "code",
      "metadata": {
        "colab": {
          "base_uri": "https://localhost:8080/"
        },
        "id": "gNtkJHKJWSYb",
        "outputId": "5ae70ba2-5748-461e-9168-2bd231c87cb6"
      },
      "source": [
        "print(f\"number of images: {official_train_images.shape[0]} images\")"
      ],
      "execution_count": 3,
      "outputs": [
        {
          "output_type": "stream",
          "text": [
            "number of images: 60000 images\n"
          ],
          "name": "stdout"
        }
      ]
    },
    {
      "cell_type": "markdown",
      "metadata": {
        "id": "bDhKSCgVWZPL"
      },
      "source": [
        "### How big is each image?"
      ]
    },
    {
      "cell_type": "code",
      "metadata": {
        "colab": {
          "base_uri": "https://localhost:8080/"
        },
        "id": "IXufdArOW_k6",
        "outputId": "f4dad2b3-5558-4b46-9bed-340205cc9d00"
      },
      "source": [
        "print(f\"image width: {official_train_images.shape[1]} pixels \\nimage height: {official_train_images.shape[2]} pixels\")"
      ],
      "execution_count": 4,
      "outputs": [
        {
          "output_type": "stream",
          "text": [
            "image width: 28 pixels \n",
            "image height: 28 pixels\n"
          ],
          "name": "stdout"
        }
      ]
    },
    {
      "cell_type": "markdown",
      "metadata": {
        "id": "kcYSboUzYm8L"
      },
      "source": [
        "### See what the first image looks like using plt.imshow()"
      ]
    },
    {
      "cell_type": "code",
      "metadata": {
        "id": "wPSetMZTBIbC",
        "colab": {
          "base_uri": "https://localhost:8080/",
          "height": 282
        },
        "outputId": "b10a4f54-f040-448b-ba61-6c8949572671"
      },
      "source": [
        "plt.imshow(official_train_images[0],cmap='gray')"
      ],
      "execution_count": 5,
      "outputs": [
        {
          "output_type": "execute_result",
          "data": {
            "text/plain": [
              "<matplotlib.image.AxesImage at 0x7fdd2e755e80>"
            ]
          },
          "metadata": {
            "tags": []
          },
          "execution_count": 5
        },
        {
          "output_type": "display_data",
          "data": {
            "image/png": "[encoded data removed]",
            "text/plain": [
              "<Figure size 432x288 with 1 Axes>"
            ]
          },
          "metadata": {
            "tags": [],
            "needs_background": "light"
          }
        }
      ]
    },
    {
      "cell_type": "markdown",
      "metadata": {
        "id": "wTfU9S2AY1pi"
      },
      "source": [
        "### See what the first 10 images look like using plt.imshow() and np.concatenate()"
      ]
    },
    {
      "cell_type": "code",
      "metadata": {
        "id": "2P4enevlV7qI",
        "colab": {
          "base_uri": "https://localhost:8080/",
          "height": 153
        },
        "outputId": "a86294ff-d5d9-4b3d-fd27-f6dfec546ef4"
      },
      "source": [
        "# look at the label data for first 10 entries\n",
        "print(\"label data:\\n\")\n",
        "example_labels = official_train_labels[:10]\n",
        "print(example_labels)\n",
        "\n",
        "# print the first 10 images concatenated horizontally (along column)\n",
        "example_images = np.concatenate(official_train_images[:10], axis=1)\n",
        "plt.imshow(example_images,cmap='gray')"
      ],
      "execution_count": 6,
      "outputs": [
        {
          "output_type": "stream",
          "text": [
            "label data:\n",
            "\n",
            "[5 0 4 1 9 2 1 3 1 4]\n"
          ],
          "name": "stdout"
        },
        {
          "output_type": "execute_result",
          "data": {
            "text/plain": [
              "<matplotlib.image.AxesImage at 0x7fdd2e2a8a20>"
            ]
          },
          "metadata": {
            "tags": []
          },
          "execution_count": 6
        },
        {
          "output_type": "display_data",
          "data": {
            "image/png": "[encoded data removed]",
            "text/plain": [
              "<Figure size 432x288 with 1 Axes>"
            ]
          },
          "metadata": {
            "tags": [],
            "needs_background": "light"
          }
        }
      ]
    },
    {
      "cell_type": "markdown",
      "metadata": {
        "id": "pu-K2UZOZpZA"
      },
      "source": [
        "# Prepare the data"
      ]
    },
    {
      "cell_type": "markdown",
      "metadata": {
        "id": "cWWF7hi9vWWb"
      },
      "source": [
        "### Split the data using np.split()"
      ]
    },
    {
      "cell_type": "code",
      "metadata": {
        "id": "MnTLseOjvZG6"
      },
      "source": [
        "train_images, val_images = np.split(official_train_images, [55000])\n",
        "train_labels, val_labels = np.split(official_train_labels, [55000])"
      ],
      "execution_count": 7,
      "outputs": []
    },
    {
      "cell_type": "markdown",
      "metadata": {
        "id": "D_htqwtLdb1f"
      },
      "source": [
        "### Normalizing data by transforming the original data into data with 0 mean and standard deviation of 1"
      ]
    },
    {
      "cell_type": "code",
      "metadata": {
        "id": "KbMZj8Dgh3nD"
      },
      "source": [
        "# function to normalize images of shape (num_examples,height,width)\n",
        "def normalize_images(images):\n",
        "  mean = images.mean(axis=(1,2), keepdims=True)\n",
        "  stdev = images.std(axis=(1,2), keepdims=True)\n",
        "  return (images - mean) / stdev\n",
        "\n",
        "# prebuilt packages like from sklearn.preprocessing import StandardScaler serve similar function"
      ],
      "execution_count": 8,
      "outputs": []
    },
    {
      "cell_type": "code",
      "metadata": {
        "id": "3zgZSSjkb0Fm",
        "colab": {
          "base_uri": "https://localhost:8080/"
        },
        "outputId": "348bb1e3-535d-49c6-e173-53703dc52532"
      },
      "source": [
        "train_images = normalize_images(train_images)\n",
        "val_images = normalize_images(val_images)\n",
        "print(f\"mean of data: {np.mean(train_images)} very close to 0\")\n",
        "print(f\"standard deviation of data: {np.std(train_images)}...very close to 1\")"
      ],
      "execution_count": 9,
      "outputs": [
        {
          "output_type": "stream",
          "text": [
            "mean of data: -2.1187847309978025e-10 very close to 0\n",
            "standard deviation of data: 0.9999994039535522...very close to 1\n"
          ],
          "name": "stdout"
        }
      ]
    },
    {
      "cell_type": "markdown",
      "metadata": {
        "id": "VflYvCcEl2mf"
      },
      "source": [
        "### Batch processing"
      ]
    },
    {
      "cell_type": "code",
      "metadata": {
        "id": "VV-22bUNDRpO"
      },
      "source": [
        "def batch(batch_size, training=True):\n",
        "  \"\"\"Create a batch of examples.\n",
        "  \n",
        "  This creates a batch of input images and a batch of corresponding\n",
        "  ground-truth labels. We assume CUDA is available (with a GPU).\n",
        "  \n",
        "  Args:\n",
        "    batch_size: An integer.\n",
        "    training: A boolean. If True, grab examples from the training\n",
        "      set; otherwise, grab them from the validation set.\n",
        "  \n",
        "  Returns:\n",
        "    A tuple,\n",
        "    input_batch: A Variable of floats with shape\n",
        "      [batch_size, 1, height, width]\n",
        "    label_batch: A Variable of ints with shape\n",
        "      [batch_size].\n",
        "  \"\"\"\n",
        "  if training:\n",
        "    random_ind = np.random.choice(train_images.shape[0], size=batch_size, replace=False)\n",
        "    input_batch = train_images[random_ind]\n",
        "    label_batch = train_labels[random_ind]\n",
        "  else:\n",
        "    input_batch = val_images[:batch_size]\n",
        "    label_batch = val_labels[:batch_size]\n",
        "  \n",
        "  input_batch = input_batch[:, np.newaxis, :, :]\n",
        "  \n",
        "  volatile = not training\n",
        "  input_batch = torch.from_numpy(input_batch).cuda()\n",
        "  label_batch = torch.from_numpy(label_batch).cuda()\n",
        "  \n",
        "  return input_batch, label_batch"
      ],
      "execution_count": 10,
      "outputs": []
    },
    {
      "cell_type": "markdown",
      "metadata": {
        "id": "maETqRXvl_O-"
      },
      "source": [
        "# Setting up the neural network"
      ]
    },
    {
      "cell_type": "code",
      "metadata": {
        "id": "EPjt_9ICymDq"
      },
      "source": [
        "class SimpleNN(torch.nn.Module):\n",
        "  \"\"\"A Simple Neural Network with 6 convolutional layers and 2 linear layers\n",
        "  \n",
        "  Map from inputs with shape [batch_size, 1, height, width] to\n",
        "  outputs with shape [batch_size, 1].\n",
        "  \"\"\"\n",
        "  \n",
        "  def __init__(self):\n",
        "    super().__init__()\n",
        "    # torch.nn.Conv2d() creates a single convolution layer with\n",
        "    # (input dimension, output dimension, kernel_size=, padding=) arguments\n",
        "    self.conv1 = torch.nn.Conv2d(1, 32, kernel_size=7, padding=7//2) # feel free to change these parameters.\n",
        "    self.conv2 = torch.nn.Conv2d(32, 64, kernel_size=3, padding=3//2, stride = 3)\n",
        "    self.conv3 = torch.nn.Conv2d(64, 64, kernel_size=3, padding=3//2)\n",
        "    self.conv4 = torch.nn.Conv2d(64, 128, kernel_size=3, padding=3//2, stride = 3)\n",
        "    self.conv5 = torch.nn.Conv2d(128, 128, kernel_size=4, padding = 0, stride = 1)    \n",
        "    # Final layer maps to 10 outputs which are the 10 classes\n",
        "    self.conv_final = torch.nn.Conv2d(128, 128, kernel_size=1)\n",
        "    self.linear1 = torch.nn.Linear(128,128)\n",
        "    self.linear2 = torch.nn.Linear(128,10)\n",
        "    for m in self.modules():\n",
        "      # weight initialization hyperparameters\n",
        "        if isinstance(m, nn.Conv2d) or isinstance(m, nn.ConvTranspose2d):\n",
        "            m.reset_parameters()\n",
        "            torch.nn.init.kaiming_normal_(m.weight.data)\n",
        "            if m.bias is not None:\n",
        "                m.bias.data.zero_()\n",
        "\n",
        "  # defines forward pass with relu activations  \n",
        "  def forward(self, x):\n",
        "    x = F.relu(self.conv1(x))\n",
        "    # output (28 - 7 + 6) / 1 + 1 = 28 x 28 x 32\n",
        "    x = F.relu(self.conv2(x))\n",
        "    # output (28 - 3 + 2) / 3 + 1 = 10 x 10 x 32\n",
        "    x = F.relu(self.conv3(x))\n",
        "    # output 10 x 10 x 32\n",
        "    x = F.relu(self.conv4(x))\n",
        "    # output (10-3+2) / 3 + 1 = 4 x 4 x 32\n",
        "    x = F.relu(self.conv5(x))\n",
        "    x = self.conv_final(x)\n",
        "    x = x.squeeze()\n",
        "    x = self.linear1(x)\n",
        "    x = self.linear2(x)\n",
        "    return x"
      ],
      "execution_count": 11,
      "outputs": []
    },
    {
      "cell_type": "markdown",
      "metadata": {
        "id": "-fL00NdPmDmt"
      },
      "source": [
        "# Setting up training code"
      ]
    },
    {
      "cell_type": "code",
      "metadata": {
        "id": "KxMEN0hsxMbm"
      },
      "source": [
        "def train_step(batch_size=128):\n",
        "    # train mode\n",
        "    model.train()\n",
        "    # create input and label batches\n",
        "    input_batch, label_batch = batch(batch_size, training=True)\n",
        "    # run the inputs through the model and returns outputs\n",
        "    output_batch = model(input_batch)\n",
        "\n",
        "    # calculates cross entropy loss\n",
        "    loss = F.cross_entropy(output_batch, label_batch)\n",
        "    _, pred_batch = torch.max(output_batch, dim=1)\n",
        "    # calculates error rate when prediction doesn't match label\n",
        "    error_rate = 1.0 - (pred_batch == label_batch).float().mean()\n",
        "\n",
        "    # initiates optimizer\n",
        "    optimizer.zero_grad()\n",
        "    # back propagation\n",
        "    loss.backward()\n",
        "\n",
        "    # updates model \n",
        "    optimizer.step()\n",
        "\n",
        "    return loss.item(), error_rate.item()"
      ],
      "execution_count": 12,
      "outputs": []
    },
    {
      "cell_type": "code",
      "metadata": {
        "id": "h7JygaaR9KkO"
      },
      "source": [
        "def val():\n",
        "    # evaluation mode\n",
        "    model.eval()\n",
        "    # create input and label batches\n",
        "    input_batch, label_batch = batch(val_images.shape[0], training=False)\n",
        "    # run the inputs through the model and returns outputs\n",
        "    output_batch = model(input_batch)\n",
        "\n",
        "    # calculates cross entropy loss\n",
        "    loss = F.cross_entropy(output_batch, label_batch)\n",
        "    _, pred_batch = torch.max(output_batch, dim=1)\n",
        "    # calculates error rate when prediction doesn't match label\n",
        "    error_rate = 1.0 - (pred_batch == label_batch).float().mean()\n",
        "\n",
        "    return loss.item(), error_rate.item()"
      ],
      "execution_count": 13,
      "outputs": []
    },
    {
      "cell_type": "markdown",
      "metadata": {
        "id": "m50kGWuRrVdy"
      },
      "source": [
        "### Training the model"
      ]
    },
    {
      "cell_type": "code",
      "metadata": {
        "id": "i0JD4kopuwtz",
        "colab": {
          "base_uri": "https://localhost:8080/"
        },
        "outputId": "f87bcef0-c8e3-4368-d8ed-719f7c2bc038"
      },
      "source": [
        "# Hyperparameters\n",
        "batch_size = 128\n",
        "# validation batch size\n",
        "val_batch_size = 500\n",
        "# learning rate\n",
        "lr = .001\n",
        "\n",
        "\n",
        "# instantiates neural network model\n",
        "model = SimpleNN()\n",
        "model.cuda()\n",
        "# uses Adam optimizer\n",
        "optimizer = torch.optim.Adam(model.parameters(), lr=lr)\n",
        "\n",
        "# code to display status of training through text\n",
        "info = []\n",
        "# number of steps is the number of times batch training happens\n",
        "num_steps = 2000\n",
        "num_steps_per_val = 50\n",
        "best_val_err = 1.0\n",
        "for step in range(num_steps):\n",
        "  train_loss, train_err = train_step()\n",
        "  if step % num_steps_per_val == 0:\n",
        "    val_loss, val_err = val()\n",
        "    # updates validation error when more accurate output is returned by the model\n",
        "    if val_err < best_val_err:\n",
        "      best_val_err = val_err\n",
        "      print('Step {:5d}: Obtained a best validation error of {:.4f}.'.format(step, best_val_err))\n",
        "    info.append([step, train_loss, val_loss, train_err, val_err])\n",
        "    x, y11, y12, y21, y22 = zip(*info)\n"
      ],
      "execution_count": 14,
      "outputs": [
        {
          "output_type": "stream",
          "text": [
            "Step     0: Obtained a best validation error of 0.8008.\n",
            "Step    50: Obtained a best validation error of 0.0528.\n",
            "Step   100: Obtained a best validation error of 0.0308.\n",
            "Step   150: Obtained a best validation error of 0.0268.\n",
            "Step   200: Obtained a best validation error of 0.0216.\n",
            "Step   350: Obtained a best validation error of 0.0208.\n",
            "Step   400: Obtained a best validation error of 0.0192.\n",
            "Step   600: Obtained a best validation error of 0.0176.\n",
            "Step   650: Obtained a best validation error of 0.0146.\n",
            "Step   850: Obtained a best validation error of 0.0138.\n",
            "Step  1200: Obtained a best validation error of 0.0098.\n"
          ],
          "name": "stdout"
        }
      ]
    },
    {
      "cell_type": "markdown",
      "metadata": {
        "id": "oJUfmUi9xdsK"
      },
      "source": [
        "### plots cross entropy loss and error rate"
      ]
    },
    {
      "cell_type": "code",
      "metadata": {
        "colab": {
          "base_uri": "https://localhost:8080/",
          "height": 530
        },
        "id": "klOO0mpCvyI4",
        "outputId": "7fc1b55d-ab95-431f-fbc8-44825056314e"
      },
      "source": [
        "fig, axs = plt.subplots(2,1,figsize=(16,8))\n",
        "fig.subplots_adjust(hspace = 0.5)\n",
        "axs[0].plot(x, y11, x, y12)\n",
        "axs[0].set_title('Loss')\n",
        "axs[0].set_ylabel('Cross Entropy Loss')\n",
        "axs[0].set_xlabel('train step')\n",
        "axs[0].legend(['Train loss', 'Val loss'])\n",
        "axs[1].plot(x, y21, x, y22)\n",
        "axs[1].set_title('Error rate')\n",
        "axs[1].set_ylabel('Error rate')\n",
        "axs[1].set_xlabel('train step')\n",
        "axs[1].legend(['Train err', 'Val err'])"
      ],
      "execution_count": 15,
      "outputs": [
        {
          "output_type": "execute_result",
          "data": {
            "text/plain": [
              "<matplotlib.legend.Legend at 0x7fdd2cfc78d0>"
            ]
          },
          "metadata": {
            "tags": []
          },
          "execution_count": 15
        },
        {
          "output_type": "display_data",
          "data": {
            "image/png": "[encoded data removed]",
            "text/plain": [
              "<Figure size 1152x576 with 2 Axes>"
            ]
          },
          "metadata": {
            "tags": [],
            "needs_background": "light"
          }
        }
      ]
    },
    {
      "cell_type": "markdown",
      "metadata": {
        "id": "8GsJWP_hmIZl"
      },
      "source": [
        "# Testing out the trained model"
      ]
    },
    {
      "cell_type": "code",
      "metadata": {
        "colab": {
          "base_uri": "https://localhost:8080/",
          "height": 282
        },
        "id": "VE3OigO-mLuN",
        "outputId": "3519b6cb-026c-4bea-d97d-512c49e09c34"
      },
      "source": [
        "plt.imshow(train_images[0])"
      ],
      "execution_count": 16,
      "outputs": [
        {
          "output_type": "execute_result",
          "data": {
            "text/plain": [
              "<matplotlib.image.AxesImage at 0x7fdd2cf24400>"
            ]
          },
          "metadata": {
            "tags": []
          },
          "execution_count": 16
        },
        {
          "output_type": "display_data",
          "data": {
            "image/png": "[encoded data removed]",
            "text/plain": [
              "<Figure size 432x288 with 1 Axes>"
            ]
          },
          "metadata": {
            "tags": [],
            "needs_background": "light"
          }
        }
      ]
    },
    {
      "cell_type": "markdown",
      "metadata": {
        "id": "i3uEuihqrQS7"
      },
      "source": [
        "### lets use our trained model to predict what the image above is"
      ]
    },
    {
      "cell_type": "code",
      "metadata": {
        "colab": {
          "base_uri": "https://localhost:8080/"
        },
        "id": "vdnmC5oymQoE",
        "outputId": "22e3e434-57f5-4461-d2a1-7e98e3e85827"
      },
      "source": [
        "output = model(torch.reshape(torch.from_numpy(train_images[0]).cuda(), (1,1,28,28)))\n",
        "pred = torch.max(output, dim=0)\n",
        "print(f\"model predicts a {pred.indices}\")\n",
        "  "
      ],
      "execution_count": 17,
      "outputs": [
        {
          "output_type": "stream",
          "text": [
            "model predicts a 5\n"
          ],
          "name": "stdout"
        }
      ]
    }
  ]
}
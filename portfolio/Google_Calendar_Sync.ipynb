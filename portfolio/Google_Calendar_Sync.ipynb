{
  "nbformat": 4,
  "nbformat_minor": 0,
  "metadata": {
    "colab": {
      "name": "Google Calendar Sync",
      "provenance": [],
      "collapsed_sections": []
    },
    "kernelspec": {
      "name": "python3",
      "display_name": "Python 3"
    }
  },
  "cells": [
    {
      "cell_type": "code",
      "metadata": {
        "id": "2yFdSFX5UqtC",
        "colab_type": "code",
        "colab": {}
      },
      "source": [
        "import logging\n",
        "logging.basicConfig(level=logging.DEBUG, format='%(asctime)s - %(levelname)s - %(message)s')\n",
        "import pdb"
      ],
      "execution_count": 0,
      "outputs": []
    },
    {
      "cell_type": "markdown",
      "metadata": {
        "id": "nUbIamdOU63w",
        "colab_type": "text"
      },
      "source": [
        "This notebook accepts 1 or more lists of strings of a user's calendar time blocks in format \"HH:mm\", and the bound times and returns a list of the possible available times."
      ]
    },
    {
      "cell_type": "code",
      "metadata": {
        "id": "ku5y98xsApFA",
        "colab_type": "code",
        "colab": {}
      },
      "source": [
        "# bound's lower bound is assumed to be min of group and upper bound is assumed to be max of group, was pretty done with the problem at this point, but it's an easy addition\n",
        "bounds = [['9:00','18:30']]\n",
        "person_1 = [['9:00','10:30'], ['12:00', '13:00'],['16:00','18:00']]\n",
        "person_2 = [['10:00','11:30'],['12:30','14:30'],['14:30','15:00'],['16:00','17:00']]\n",
        "min_duration = 30"
      ],
      "execution_count": 0,
      "outputs": []
    },
    {
      "cell_type": "code",
      "metadata": {
        "id": "FFXH18jOCZjT",
        "colab_type": "code",
        "colab": {}
      },
      "source": [
        "# I would have included some bound checks if it wasn't guaranteed that the given times are within the bounds\n",
        "# e.g. clamped offending times that weren't within the bound to the bound times\n",
        "\n",
        "# I would have sorted the tuples if they weren't given in order"
      ],
      "execution_count": 0,
      "outputs": []
    },
    {
      "cell_type": "code",
      "metadata": {
        "id": "hp1YW9e1LauN",
        "colab_type": "code",
        "colab": {}
      },
      "source": [
        "# example '9:00' -> 540\n",
        "# helper for timelist_to_minutelist(tlist)\n",
        "def timestring_to_minutesint(ts):\n",
        "  split_string = ts.split(':')\n",
        "  hours, minutes = int(split_string[0]), int(split_string[1]) \n",
        "  results = hours * 60 + minutes\n",
        "  return results"
      ],
      "execution_count": 0,
      "outputs": []
    },
    {
      "cell_type": "code",
      "metadata": {
        "id": "L3p-1IpQbhJX",
        "colab_type": "code",
        "colab": {}
      },
      "source": [
        "# example 540 -> '9:00'\n",
        "# helper for minutelist_to_timelist(mlist)\n",
        "def minutesint_to_timestring(mint):\n",
        "  hours, minutes = mint // 60, mint % 60\n",
        "  if minutes == 0:\n",
        "    minutes = '00'\n",
        "  return str(hours) + ':' + str(minutes)"
      ],
      "execution_count": 0,
      "outputs": []
    },
    {
      "cell_type": "code",
      "metadata": {
        "id": "hJSwHBnhPXLd",
        "colab_type": "code",
        "colab": {}
      },
      "source": [
        "# example [['9:00','10:30']] -> [[540,630]]\n",
        "def timelist_to_minutelist(tlist):\n",
        "  results = []\n",
        "  for t_bound in tlist:\n",
        "    results.append([timestring_to_minutesint(t_bound[0]),timestring_to_minutesint(t_bound[1])])\n",
        "  return results"
      ],
      "execution_count": 0,
      "outputs": []
    },
    {
      "cell_type": "code",
      "metadata": {
        "id": "C8J3Ms5Ua1SH",
        "colab_type": "code",
        "colab": {}
      },
      "source": [
        "# example [[540,630]] -> [['9:00','10:30']]\n",
        "def minutelist_to_timelist(mlist):\n",
        "  results = []\n",
        "  for m_bound in mlist:\n",
        "    results.append([minutesint_to_timestring(m_bound[0]),minutesint_to_timestring(m_bound[1])])\n",
        "  return results"
      ],
      "execution_count": 0,
      "outputs": []
    },
    {
      "cell_type": "code",
      "metadata": {
        "id": "4koILtsUBwjK",
        "colab_type": "code",
        "colab": {}
      },
      "source": [
        "# applies changes for each additional time block\n",
        "def change_results(results_b, new_booked):\n",
        "  results = results_b.copy()\n",
        "  for i, t_bound in enumerate(results_b):\n",
        "    if t_bound[0] >= new_booked[0] and t_bound[1] <= new_booked[1]:\n",
        "      results.pop(i)\n",
        "    elif t_bound[0] < new_booked[0] and t_bound[1] >= new_booked[0]:\n",
        "      temp = results[i][1]\n",
        "      results[i][1] = new_booked[0]\n",
        "      results.insert(i+1,[new_booked[1],temp])\n",
        "    elif t_bound[0] >= new_booked[0] and t_bound[1] >= new_booked[1] and t_bound[0] < new_booked[1]:\n",
        "      results[i][0] = new_booked[1]\n",
        "    elif t_bound[0] <= new_booked[0] and t_bound[1] <= new_booked[1] and t_bound[1] > new_booked[0]:\n",
        "      results[i][1] = new_booked[0]\n",
        "    \n",
        "  return results\n"
      ],
      "execution_count": 0,
      "outputs": []
    },
    {
      "cell_type": "code",
      "metadata": {
        "id": "5HqcmoFdFWRC",
        "colab_type": "code",
        "colab": {}
      },
      "source": [
        "# removes durations lower than the minimum duration\n",
        "def remove_invalid_durations(results):\n",
        "  for i,t_bound in enumerate(results):\n",
        "    if t_bound[1] - t_bound[0] < min_duration:\n",
        "      results.pop(i)\n",
        "  return results"
      ],
      "execution_count": 0,
      "outputs": []
    },
    {
      "cell_type": "code",
      "metadata": {
        "id": "tKuHpn_CQK20",
        "colab_type": "code",
        "colab": {}
      },
      "source": [
        "# actually works for 2+ schedules\n",
        "def main(bounds, min_duration, *args):\n",
        "  # converts bounds and user schedules to minutes for easy comparisons\n",
        "  results = timelist_to_minutelist(bounds)\n",
        "  args = [timelist_to_minutelist(arg) for arg in args]\n",
        "  # iterates though each person\n",
        "  for arg in args:\n",
        "    # iterates through each time block per person\n",
        "    for booked in arg:\n",
        "      results = change_results(results,booked)\n",
        "      results = remove_invalid_durations(results)\n",
        "  # converts back to time strings\n",
        "\n",
        "  results = minutelist_to_timelist(results)\n",
        "  return results"
      ],
      "execution_count": 0,
      "outputs": []
    },
    {
      "cell_type": "code",
      "metadata": {
        "id": "ft0SobrLRTUD",
        "colab_type": "code",
        "outputId": "375487bb-712e-4a75-8f5c-0e4f09bdc469",
        "colab": {
          "base_uri": "https://localhost:8080/",
          "height": 34
        }
      },
      "source": [
        "results = main(bounds, min_duration, person_1, person_2)\n",
        "print(results)"
      ],
      "execution_count": 11,
      "outputs": [
        {
          "output_type": "stream",
          "text": [
            "[['11:30', '12:00'], ['15:00', '16:00'], ['18:00', '18:30']]\n"
          ],
          "name": "stdout"
        }
      ]
    },
    {
      "cell_type": "code",
      "metadata": {
        "id": "IU9Kvw2tHRVh",
        "colab_type": "code",
        "colab": {}
      },
      "source": [
        "# unit tests\n",
        "# # check_duration unit tests\n",
        "# print(check_duration('11:05','11:45', 30))\n",
        "# print(check_duration('11:05','11:45', 50))\n",
        "# print(check_duration('11:05','16:45', 30))\n",
        "# print(check_duration('11:05','16:45', 360))\n",
        "\n",
        "# timelist_to_minutelist(person_2)\n",
        "# minutelist_to_timelist([[600, 690], [750, 870], [870, 900], [960, 1020]])"
      ],
      "execution_count": 0,
      "outputs": []
    }
  ]
}
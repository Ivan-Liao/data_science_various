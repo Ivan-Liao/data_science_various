{
  "nbformat": 4,
  "nbformat_minor": 0,
  "metadata": {
    "colab": {
      "name": "web scraping analysis of website political bias.ipynb",
      "provenance": [],
      "collapsed_sections": [],
      "toc_visible": true
    },
    "kernelspec": {
      "name": "python3",
      "display_name": "Python 3"
    }
  },
  "cells": [
    {
      "cell_type": "markdown",
      "metadata": {
        "id": "_x1zTHwPm0q2"
      },
      "source": [
        "# Tutorial links\n",
        "Summarized from https://www.learndatasci.com/tutorials/ultimate-guide-web-scraping-w-python-requests-and-beautifulsoup/"
      ]
    },
    {
      "cell_type": "markdown",
      "metadata": {
        "id": "p8e-B0c6lf64"
      },
      "source": [
        "### Compiling data (list of dictionaries)"
      ]
    },
    {
      "cell_type": "code",
      "metadata": {
        "id": "I9kThpUbkGQR"
      },
      "source": [
        "import requests\n",
        "from bs4 import BeautifulSoup\n",
        "import time\n",
        "import sys"
      ],
      "execution_count": null,
      "outputs": []
    },
    {
      "cell_type": "code",
      "metadata": {
        "id": "-VWWoEGIXBi2"
      },
      "source": [
        "# !pip install selenium\n",
        "# !apt install chromium-chromedriver\n",
        "# !cp /usr/lib/chromium-browser/chromedriver /usr/bin\n",
        "# import sys\n",
        "# sys.path.insert(0,'/usr/lib/chromium-browser/chromedriver')\n",
        "# from selenium import webdriver\n",
        "# chrome_options = webdriver.ChromeOptions()\n",
        "# chrome_options.add_argument('--headless')\n",
        "# chrome_options.add_argument('--no-sandbox')\n",
        "# chrome_options.add_argument('--disable-dev-shm-usage')\n",
        "# wd = webdriver.Chrome('chromedriver',chrome_options=chrome_options)"
      ],
      "execution_count": null,
      "outputs": []
    },
    {
      "cell_type": "code",
      "metadata": {
        "id": "KiBoowx3eq_U"
      },
      "source": [
        "!pip install selenium\n",
        "!apt install chromium-chromedriver\n",
        "from selenium import webdriver\n",
        "sys.path.insert(0,'/usr/lib/chromium-browser/chromedriver')\n",
        "chrome_options = webdriver.ChromeOptions()\n",
        "chrome_options.add_argument('--headless')\n",
        "chrome_options.add_argument('--no-sandbox')\n",
        "chrome_options.add_argument('--disable-dev-shm-usage')\n",
        "wd = webdriver.Chrome('chromedriver',options=chrome_options)"
      ],
      "execution_count": null,
      "outputs": []
    },
    {
      "cell_type": "code",
      "metadata": {
        "id": "ilVXlA2lilNg"
      },
      "source": [
        "def save_html(html, path):\n",
        "    with open(path, 'w') as f:\n",
        "        f.write(html)\n",
        "        \n",
        "def open_html(path):\n",
        "    with open(path, 'r') as f:\n",
        "        return f.read()"
      ],
      "execution_count": null,
      "outputs": []
    },
    {
      "cell_type": "code",
      "metadata": {
        "id": "Th5wnQLCjOoZ"
      },
      "source": [
        "# save and open html test\n",
        "url = 'https://www.google.com'\n",
        "page = requests.get(url)\n",
        "save_html(page.text, 'google_com.html')\n",
        "html = open_html('google_com.html')"
      ],
      "execution_count": null,
      "outputs": []
    },
    {
      "cell_type": "code",
      "metadata": {
        "id": "3ZCcn7hNYfSR"
      },
      "source": [
        "wd.get(\"https://www.allsides.com/media-bias/media-bias-ratings?field_featured_bias_rating_value=All&field_news_source_type_tid[1]=1&field_news_source_type_tid[2]=2&field_news_source_type_tid[3]=3&field_news_source_type_tid[4]=4\")\n",
        "\n",
        "ScrollNumber = 21\n",
        "for i in range(1,ScrollNumber):\n",
        "    wd.execute_script(\"window.scrollTo(1,50000)\")\n",
        "    time.sleep(10)"
      ],
      "execution_count": null,
      "outputs": []
    },
    {
      "cell_type": "code",
      "metadata": {
        "id": "YFPHjKqLabFj"
      },
      "source": [
        "save_html(wd.page_source, 'media_bias_ratings.html')\n",
        "html = open_html('media_bias_ratings.html')\n",
        "\n",
        "wd.close()"
      ],
      "execution_count": null,
      "outputs": []
    },
    {
      "cell_type": "markdown",
      "metadata": {
        "id": "YtMZrNvRl6yZ"
      },
      "source": [
        "Most websites have a robots.txt file on the root of their domain\n",
        "e.g. https://www.google.com/robots.txt\n",
        "\n",
        "crawl delay - number of seconds to wait between requests\n",
        "allow and disallow specifies permissions for certain folders"
      ]
    },
    {
      "cell_type": "code",
      "metadata": {
        "id": "1hL10JmbmmSv",
        "colab": {
          "base_uri": "https://localhost:8080/",
          "height": 34
        },
        "outputId": "af749134-fb79-4611-fdda-7dfa4affb6f7"
      },
      "source": [
        "url = 'https://www.allsides.com/media-bias/media-bias-ratings?field_featured_bias_rating_value=All&field_news_source_type_tid[1]=1&field_news_source_type_tid[2]=2&field_news_source_type_tid[3]=3&field_news_source_type_tid[4]=4'\n",
        "r = requests.get(url)\n",
        "print(r.content[:100])"
      ],
      "execution_count": null,
      "outputs": [
        {
          "output_type": "stream",
          "text": [
            "b'<!DOCTYPE html>\\n<!--[if IEMobile 7]><html class=\"iem7\"  lang=\"en\" dir=\"ltr\"><![endif]-->\\n<!--[if lte'\n"
          ],
          "name": "stdout"
        }
      ]
    },
    {
      "cell_type": "code",
      "metadata": {
        "id": "UvZm0lBSrO_n"
      },
      "source": [
        "soup = BeautifulSoup(html, 'html.parser')"
      ],
      "execution_count": null,
      "outputs": []
    },
    {
      "cell_type": "code",
      "metadata": {
        "id": "RSmBej-iwgJA"
      },
      "source": [
        "rows = soup.select('tbody tr')"
      ],
      "execution_count": null,
      "outputs": []
    },
    {
      "cell_type": "code",
      "metadata": {
        "id": "YCAotnaPwp3g",
        "colab": {
          "base_uri": "https://localhost:8080/",
          "height": 34
        },
        "outputId": "e65b9dcc-830f-4064-ced5-c55196a46f21"
      },
      "source": [
        "# .source-title is a unique identifier of the first row first cell element\n",
        "first_row = rows[0]\n",
        "name = first_row.select_one('.source-title').text.strip() # turns into text type, always good idea to strip()\n",
        "print(name)"
      ],
      "execution_count": null,
      "outputs": [
        {
          "output_type": "stream",
          "text": [
            "AARP\n"
          ],
          "name": "stdout"
        }
      ]
    },
    {
      "cell_type": "code",
      "metadata": {
        "id": "B0ogquus0Xvq",
        "colab": {
          "base_uri": "https://localhost:8080/",
          "height": 34
        },
        "outputId": "d9d66215-6366-44d0-ae9f-f1154bc07da3"
      },
      "source": [
        "# square bracket for attributes e.g. href\n",
        "name_link = first_row.select_one('.source-title a')['href']\n",
        "name_link = 'https://www.allsides.com' + name_link\n",
        "print(name_link)"
      ],
      "execution_count": null,
      "outputs": [
        {
          "output_type": "stream",
          "text": [
            "https://www.allsides.com/news-source/aarp-media-bias\n"
          ],
          "name": "stdout"
        }
      ]
    },
    {
      "cell_type": "code",
      "metadata": {
        "id": "Ft35WGUT3QE_",
        "colab": {
          "base_uri": "https://localhost:8080/",
          "height": 34
        },
        "outputId": "220b0204-d755-411a-cf70-99f25f2b77a7"
      },
      "source": [
        "bias = first_row.select_one('.views-field-field-bias-image a')['href']\n",
        "bias = bias.split('/')[-1]\n",
        "print(bias)"
      ],
      "execution_count": null,
      "outputs": [
        {
          "output_type": "stream",
          "text": [
            "center\n"
          ],
          "name": "stdout"
        }
      ]
    },
    {
      "cell_type": "code",
      "metadata": {
        "id": "a4V8tiIQ4kJi",
        "colab": {
          "base_uri": "https://localhost:8080/",
          "height": 34
        },
        "outputId": "7a339292-85fb-4263-aea5-2944096264ff"
      },
      "source": [
        "agree = first_row.select_one('.agree').text.strip()\n",
        "disagree = first_row.select_one('.disagree').text.strip()\n",
        "like_bar = int(agree) / (int(agree)+int(disagree)) * 100\n",
        "\n",
        "print(f\"Agree: {agree} Disagree: {disagree} Like Bar: {like_bar:.2f}%\")"
      ],
      "execution_count": null,
      "outputs": [
        {
          "output_type": "stream",
          "text": [
            "Agree: 1676 Disagree: 3233 Like Bar: 34.14%\n"
          ],
          "name": "stdout"
        }
      ]
    },
    {
      "cell_type": "code",
      "metadata": {
        "id": "o6T_3nAWNgtT"
      },
      "source": [
        "# for multi page parses,loop to generate urls. Then loop through urls to get pages\n",
        "data = []\n",
        "\n",
        "for row in rows:\n",
        "    d = {}\n",
        "\n",
        "    d['name'] = row.select_one('.source-title').text.strip()\n",
        "    d['name_link'] = 'https://www.allsides.com' + row.select_one('.source-title a')['href']\n",
        "    d['bias'] = row.select_one('.views-field-field-bias-image a')['href'].split('/')[-1]\n",
        "    d['agree'] = int(row.select_one('.agree').text.strip())\n",
        "    d['disagree'] = int(row.select_one('.disagree').text.strip())\n",
        "    try:\n",
        "        d['like_bar'] = d['agree'] / (d['agree']+d['disagree']) * 100\n",
        "    except:\n",
        "        pass\n",
        "\n",
        "    data.append(d)"
      ],
      "execution_count": null,
      "outputs": []
    },
    {
      "cell_type": "code",
      "metadata": {
        "id": "5Lu6VL9OQCma",
        "colab": {
          "base_uri": "https://localhost:8080/",
          "height": 34
        },
        "outputId": "5168fb4a-acd6-4a34-adf1-eda2710da82a"
      },
      "source": [
        "len(data)"
      ],
      "execution_count": null,
      "outputs": [
        {
          "output_type": "execute_result",
          "data": {
            "text/plain": [
              "747"
            ]
          },
          "metadata": {
            "tags": []
          },
          "execution_count": 25
        }
      ]
    },
    {
      "cell_type": "code",
      "metadata": {
        "id": "656tfxu4bHfd",
        "colab": {
          "base_uri": "https://localhost:8080/",
          "height": 34
        },
        "outputId": "72dfed7a-42c0-49e1-8163-157283825340"
      },
      "source": [
        "print(data[223])"
      ],
      "execution_count": null,
      "outputs": [
        {
          "output_type": "stream",
          "text": [
            "{'name': 'Fox News Latino', 'name_link': 'https://www.allsides.com/news-source/fox-news-latino', 'bias': 'right', 'agree': '2164', 'disagree': '1075', 'like_bar': 34.141372988388675}\n"
          ],
          "name": "stdout"
        }
      ]
    },
    {
      "cell_type": "code",
      "metadata": {
        "id": "7V27y3q0cbcz"
      },
      "source": [
        "# # optional, gets original news site links but takes 2+ hours\n",
        "# from tqdm import tqdm\n",
        "# # another loop to retrieve original news website link\n",
        "# for d in tqdm(data):\n",
        "#     r = requests.get(d['name_link'])\n",
        "#     soup = BeautifulSoup(r.content,'html.parser')\n",
        "\n",
        "#     try:\n",
        "#         website = soup.select_one('.dynamic-grid a')['href']\n",
        "#         d['website'] = website\n",
        "\n",
        "\n",
        "#     except TypeError:\n",
        "#         pass\n",
        "    \n",
        "#     time.sleep(10)\n"
      ],
      "execution_count": null,
      "outputs": []
    },
    {
      "cell_type": "code",
      "metadata": {
        "id": "hO-8nFF3lyeX"
      },
      "source": [
        "import json\n",
        "\n",
        "with open('allsides.json','w') as f:\n",
        "    json.dump(data, f)"
      ],
      "execution_count": null,
      "outputs": []
    },
    {
      "cell_type": "code",
      "metadata": {
        "id": "kSoxFrCBl8BG"
      },
      "source": [
        "with open('allsides.json','r') as f:\n",
        "    data = json.load(f)"
      ],
      "execution_count": null,
      "outputs": []
    },
    {
      "cell_type": "markdown",
      "metadata": {
        "id": "xpL6lDr_loun"
      },
      "source": [
        "### analyzing data"
      ]
    },
    {
      "cell_type": "code",
      "metadata": {
        "id": "hBY46jNgluyf",
        "colab": {
          "base_uri": "https://localhost:8080/",
          "height": 227
        },
        "outputId": "9492306a-e05b-4b88-ae76-a3502968a048"
      },
      "source": [
        "import pandas as pd\n",
        "\n",
        "df = pd.read_json(open('allsides.json', 'r'))\n",
        "df.set_index('name', inplace=True)\n",
        "df.head()"
      ],
      "execution_count": null,
      "outputs": [
        {
          "output_type": "execute_result",
          "data": {
            "text/html": [
              "<div>\n",
              "<style scoped>\n",
              "    .dataframe tbody tr th:only-of-type {\n",
              "        vertical-align: middle;\n",
              "    }\n",
              "\n",
              "    .dataframe tbody tr th {\n",
              "        vertical-align: top;\n",
              "    }\n",
              "\n",
              "    .dataframe thead th {\n",
              "        text-align: right;\n",
              "    }\n",
              "</style>\n",
              "<table border=\"1\" class=\"dataframe\">\n",
              "  <thead>\n",
              "    <tr style=\"text-align: right;\">\n",
              "      <th></th>\n",
              "      <th>name_link</th>\n",
              "      <th>bias</th>\n",
              "      <th>agree</th>\n",
              "      <th>disagree</th>\n",
              "      <th>like_bar</th>\n",
              "    </tr>\n",
              "    <tr>\n",
              "      <th>name</th>\n",
              "      <th></th>\n",
              "      <th></th>\n",
              "      <th></th>\n",
              "      <th></th>\n",
              "      <th></th>\n",
              "    </tr>\n",
              "  </thead>\n",
              "  <tbody>\n",
              "    <tr>\n",
              "      <th>AARP</th>\n",
              "      <td>https://www.allsides.com/news-source/aarp-medi...</td>\n",
              "      <td>center</td>\n",
              "      <td>1676</td>\n",
              "      <td>3233</td>\n",
              "      <td>34.141373</td>\n",
              "    </tr>\n",
              "    <tr>\n",
              "      <th>ABC News (Online)</th>\n",
              "      <td>https://www.allsides.com/news-source/abc-news-...</td>\n",
              "      <td>left-center</td>\n",
              "      <td>24035</td>\n",
              "      <td>13593</td>\n",
              "      <td>63.875306</td>\n",
              "    </tr>\n",
              "    <tr>\n",
              "      <th>Above The Law</th>\n",
              "      <td>https://www.allsides.com/news-source/above-law...</td>\n",
              "      <td>left-center</td>\n",
              "      <td>133</td>\n",
              "      <td>52</td>\n",
              "      <td>71.891892</td>\n",
              "    </tr>\n",
              "    <tr>\n",
              "      <th>Abridge News</th>\n",
              "      <td>https://www.allsides.com/news-source/abridge-n...</td>\n",
              "      <td>allsides</td>\n",
              "      <td>257</td>\n",
              "      <td>166</td>\n",
              "      <td>60.756501</td>\n",
              "    </tr>\n",
              "    <tr>\n",
              "      <th>Accuracy in Media</th>\n",
              "      <td>https://www.allsides.com/news-source/accuracy-...</td>\n",
              "      <td>right</td>\n",
              "      <td>889</td>\n",
              "      <td>565</td>\n",
              "      <td>61.141678</td>\n",
              "    </tr>\n",
              "  </tbody>\n",
              "</table>\n",
              "</div>"
            ],
            "text/plain": [
              "                                                           name_link  ...   like_bar\n",
              "name                                                                  ...           \n",
              "AARP               https://www.allsides.com/news-source/aarp-medi...  ...  34.141373\n",
              "ABC News (Online)  https://www.allsides.com/news-source/abc-news-...  ...  63.875306\n",
              "Above The Law      https://www.allsides.com/news-source/above-law...  ...  71.891892\n",
              "Abridge News       https://www.allsides.com/news-source/abridge-n...  ...  60.756501\n",
              "Accuracy in Media  https://www.allsides.com/news-source/accuracy-...  ...  61.141678\n",
              "\n",
              "[5 rows x 5 columns]"
            ]
          },
          "metadata": {
            "tags": []
          },
          "execution_count": 47
        }
      ]
    },
    {
      "cell_type": "code",
      "metadata": {
        "id": "Wl6j-dTJoP13",
        "colab": {
          "base_uri": "https://localhost:8080/",
          "height": 647
        },
        "outputId": "ad4482b0-6db9-4cc0-8d39-1b2655e87355"
      },
      "source": [
        "# filtering for strongly agree, > 80% like ratio\n",
        "df[df['like_bar'] >= 80]"
      ],
      "execution_count": null,
      "outputs": [
        {
          "output_type": "execute_result",
          "data": {
            "text/html": [
              "<div>\n",
              "<style scoped>\n",
              "    .dataframe tbody tr th:only-of-type {\n",
              "        vertical-align: middle;\n",
              "    }\n",
              "\n",
              "    .dataframe tbody tr th {\n",
              "        vertical-align: top;\n",
              "    }\n",
              "\n",
              "    .dataframe thead th {\n",
              "        text-align: right;\n",
              "    }\n",
              "</style>\n",
              "<table border=\"1\" class=\"dataframe\">\n",
              "  <thead>\n",
              "    <tr style=\"text-align: right;\">\n",
              "      <th></th>\n",
              "      <th>name_link</th>\n",
              "      <th>bias</th>\n",
              "      <th>agree</th>\n",
              "      <th>disagree</th>\n",
              "      <th>like_bar</th>\n",
              "    </tr>\n",
              "    <tr>\n",
              "      <th>name</th>\n",
              "      <th></th>\n",
              "      <th></th>\n",
              "      <th></th>\n",
              "      <th></th>\n",
              "      <th></th>\n",
              "    </tr>\n",
              "  </thead>\n",
              "  <tbody>\n",
              "    <tr>\n",
              "      <th>AlterNet</th>\n",
              "      <td>https://www.allsides.com/news-source/alternet-...</td>\n",
              "      <td>left</td>\n",
              "      <td>8359</td>\n",
              "      <td>1849</td>\n",
              "      <td>81.886755</td>\n",
              "    </tr>\n",
              "    <tr>\n",
              "      <th>Ann Coulter</th>\n",
              "      <td>https://www.allsides.com/news-source/ann-coulter</td>\n",
              "      <td>right</td>\n",
              "      <td>1639</td>\n",
              "      <td>381</td>\n",
              "      <td>81.138614</td>\n",
              "    </tr>\n",
              "    <tr>\n",
              "      <th>Biblical Gender Roles</th>\n",
              "      <td>https://www.allsides.com/news-source/biblical-...</td>\n",
              "      <td>right</td>\n",
              "      <td>12</td>\n",
              "      <td>3</td>\n",
              "      <td>80.000000</td>\n",
              "    </tr>\n",
              "    <tr>\n",
              "      <th>Brad Parscale</th>\n",
              "      <td>https://www.allsides.com/news-source/brad-pars...</td>\n",
              "      <td>right</td>\n",
              "      <td>36</td>\n",
              "      <td>9</td>\n",
              "      <td>80.000000</td>\n",
              "    </tr>\n",
              "    <tr>\n",
              "      <th>CNN - Editorial</th>\n",
              "      <td>https://www.allsides.com/news-source/cnn-edito...</td>\n",
              "      <td>left</td>\n",
              "      <td>19550</td>\n",
              "      <td>4769</td>\n",
              "      <td>80.389819</td>\n",
              "    </tr>\n",
              "    <tr>\n",
              "      <th>Common Dreams</th>\n",
              "      <td>https://www.allsides.com/news-source/common-dr...</td>\n",
              "      <td>left</td>\n",
              "      <td>20</td>\n",
              "      <td>5</td>\n",
              "      <td>80.000000</td>\n",
              "    </tr>\n",
              "    <tr>\n",
              "      <th>Common Ground Committee</th>\n",
              "      <td>https://www.allsides.com/news-source/common-gr...</td>\n",
              "      <td>center</td>\n",
              "      <td>17</td>\n",
              "      <td>4</td>\n",
              "      <td>80.952381</td>\n",
              "    </tr>\n",
              "    <tr>\n",
              "      <th>Fox News Opinion</th>\n",
              "      <td>https://www.allsides.com/news-source/fox-news-...</td>\n",
              "      <td>right</td>\n",
              "      <td>16558</td>\n",
              "      <td>3807</td>\n",
              "      <td>81.306163</td>\n",
              "    </tr>\n",
              "    <tr>\n",
              "      <th>InfoWars</th>\n",
              "      <td>https://www.allsides.com/news-source/infowars</td>\n",
              "      <td>right</td>\n",
              "      <td>4685</td>\n",
              "      <td>1052</td>\n",
              "      <td>81.662890</td>\n",
              "    </tr>\n",
              "    <tr>\n",
              "      <th>John R. Wood Jr.</th>\n",
              "      <td>https://www.allsides.com/news-source/john-r-wo...</td>\n",
              "      <td>center</td>\n",
              "      <td>2</td>\n",
              "      <td>0</td>\n",
              "      <td>100.000000</td>\n",
              "    </tr>\n",
              "    <tr>\n",
              "      <th>Leafly</th>\n",
              "      <td>https://www.allsides.com/news-source/leafly-me...</td>\n",
              "      <td>left</td>\n",
              "      <td>2</td>\n",
              "      <td>0</td>\n",
              "      <td>100.000000</td>\n",
              "    </tr>\n",
              "    <tr>\n",
              "      <th>Mother Jones</th>\n",
              "      <td>https://www.allsides.com/news-source/mother-jo...</td>\n",
              "      <td>left</td>\n",
              "      <td>10578</td>\n",
              "      <td>1681</td>\n",
              "      <td>86.287625</td>\n",
              "    </tr>\n",
              "    <tr>\n",
              "      <th>Newtrals</th>\n",
              "      <td>https://www.allsides.com/news-source/newtrals-...</td>\n",
              "      <td>center</td>\n",
              "      <td>12</td>\n",
              "      <td>3</td>\n",
              "      <td>80.000000</td>\n",
              "    </tr>\n",
              "    <tr>\n",
              "      <th>Rev. Jesse Jackson Sr.</th>\n",
              "      <td>https://www.allsides.com/news-source/jesse-jac...</td>\n",
              "      <td>left</td>\n",
              "      <td>480</td>\n",
              "      <td>109</td>\n",
              "      <td>81.494058</td>\n",
              "    </tr>\n",
              "    <tr>\n",
              "      <th>Ryan Cooper</th>\n",
              "      <td>https://www.allsides.com/news-source/ryan-cooper</td>\n",
              "      <td>left</td>\n",
              "      <td>465</td>\n",
              "      <td>113</td>\n",
              "      <td>80.449827</td>\n",
              "    </tr>\n",
              "    <tr>\n",
              "      <th>San Bernardino Sun</th>\n",
              "      <td>https://www.allsides.com/news-source/san-berna...</td>\n",
              "      <td>center</td>\n",
              "      <td>9</td>\n",
              "      <td>1</td>\n",
              "      <td>90.000000</td>\n",
              "    </tr>\n",
              "    <tr>\n",
              "      <th>The Lufkin Daily News</th>\n",
              "      <td>https://www.allsides.com/news-source/lufkin-da...</td>\n",
              "      <td>center</td>\n",
              "      <td>4</td>\n",
              "      <td>1</td>\n",
              "      <td>80.000000</td>\n",
              "    </tr>\n",
              "    <tr>\n",
              "      <th>The National Pulse</th>\n",
              "      <td>https://www.allsides.com/news-source/national-...</td>\n",
              "      <td>right</td>\n",
              "      <td>134</td>\n",
              "      <td>33</td>\n",
              "      <td>80.239521</td>\n",
              "    </tr>\n",
              "    <tr>\n",
              "      <th>Whittier Daily News</th>\n",
              "      <td>https://www.allsides.com/news-source/whittier-...</td>\n",
              "      <td>center</td>\n",
              "      <td>2</td>\n",
              "      <td>0</td>\n",
              "      <td>100.000000</td>\n",
              "    </tr>\n",
              "  </tbody>\n",
              "</table>\n",
              "</div>"
            ],
            "text/plain": [
              "                                                                 name_link  ...    like_bar\n",
              "name                                                                        ...            \n",
              "AlterNet                 https://www.allsides.com/news-source/alternet-...  ...   81.886755\n",
              "Ann Coulter               https://www.allsides.com/news-source/ann-coulter  ...   81.138614\n",
              "Biblical Gender Roles    https://www.allsides.com/news-source/biblical-...  ...   80.000000\n",
              "Brad Parscale            https://www.allsides.com/news-source/brad-pars...  ...   80.000000\n",
              "CNN - Editorial          https://www.allsides.com/news-source/cnn-edito...  ...   80.389819\n",
              "Common Dreams            https://www.allsides.com/news-source/common-dr...  ...   80.000000\n",
              "Common Ground Committee  https://www.allsides.com/news-source/common-gr...  ...   80.952381\n",
              "Fox News Opinion         https://www.allsides.com/news-source/fox-news-...  ...   81.306163\n",
              "InfoWars                     https://www.allsides.com/news-source/infowars  ...   81.662890\n",
              "John R. Wood Jr.         https://www.allsides.com/news-source/john-r-wo...  ...  100.000000\n",
              "Leafly                   https://www.allsides.com/news-source/leafly-me...  ...  100.000000\n",
              "Mother Jones             https://www.allsides.com/news-source/mother-jo...  ...   86.287625\n",
              "Newtrals                 https://www.allsides.com/news-source/newtrals-...  ...   80.000000\n",
              "Rev. Jesse Jackson Sr.   https://www.allsides.com/news-source/jesse-jac...  ...   81.494058\n",
              "Ryan Cooper               https://www.allsides.com/news-source/ryan-cooper  ...   80.449827\n",
              "San Bernardino Sun       https://www.allsides.com/news-source/san-berna...  ...   90.000000\n",
              "The Lufkin Daily News    https://www.allsides.com/news-source/lufkin-da...  ...   80.000000\n",
              "The National Pulse       https://www.allsides.com/news-source/national-...  ...   80.239521\n",
              "Whittier Daily News      https://www.allsides.com/news-source/whittier-...  ...  100.000000\n",
              "\n",
              "[19 rows x 5 columns]"
            ]
          },
          "metadata": {
            "tags": []
          },
          "execution_count": 48
        }
      ]
    },
    {
      "cell_type": "code",
      "metadata": {
        "id": "V9jlPalQocbt",
        "colab": {
          "base_uri": "https://localhost:8080/",
          "height": 347
        },
        "outputId": "324f31ff-ce1b-4f2e-8ec4-4910cee75dce"
      },
      "source": [
        "# filtering for strongly disagree, < 20% like ratio\n",
        "df[df['like_bar'] <= 20]"
      ],
      "execution_count": null,
      "outputs": [
        {
          "output_type": "execute_result",
          "data": {
            "text/html": [
              "<div>\n",
              "<style scoped>\n",
              "    .dataframe tbody tr th:only-of-type {\n",
              "        vertical-align: middle;\n",
              "    }\n",
              "\n",
              "    .dataframe tbody tr th {\n",
              "        vertical-align: top;\n",
              "    }\n",
              "\n",
              "    .dataframe thead th {\n",
              "        text-align: right;\n",
              "    }\n",
              "</style>\n",
              "<table border=\"1\" class=\"dataframe\">\n",
              "  <thead>\n",
              "    <tr style=\"text-align: right;\">\n",
              "      <th></th>\n",
              "      <th>name_link</th>\n",
              "      <th>bias</th>\n",
              "      <th>agree</th>\n",
              "      <th>disagree</th>\n",
              "      <th>like_bar</th>\n",
              "    </tr>\n",
              "    <tr>\n",
              "      <th>name</th>\n",
              "      <th></th>\n",
              "      <th></th>\n",
              "      <th></th>\n",
              "      <th></th>\n",
              "      <th></th>\n",
              "    </tr>\n",
              "  </thead>\n",
              "  <tbody>\n",
              "    <tr>\n",
              "      <th>Daily Breeze</th>\n",
              "      <td>https://www.allsides.com/news-source/daily-bre...</td>\n",
              "      <td>center</td>\n",
              "      <td>1</td>\n",
              "      <td>8</td>\n",
              "      <td>11.111111</td>\n",
              "    </tr>\n",
              "    <tr>\n",
              "      <th>GLAAD</th>\n",
              "      <td>https://www.allsides.com/news-source/glaad-med...</td>\n",
              "      <td>left-center</td>\n",
              "      <td>16</td>\n",
              "      <td>78</td>\n",
              "      <td>17.021277</td>\n",
              "    </tr>\n",
              "    <tr>\n",
              "      <th>Joe Scarborough</th>\n",
              "      <td>https://www.allsides.com/news-source/joe-scarb...</td>\n",
              "      <td>right-center</td>\n",
              "      <td>225</td>\n",
              "      <td>997</td>\n",
              "      <td>18.412439</td>\n",
              "    </tr>\n",
              "    <tr>\n",
              "      <th>Kenosha News</th>\n",
              "      <td>https://www.allsides.com/news-source/kenosha-n...</td>\n",
              "      <td>center</td>\n",
              "      <td>1</td>\n",
              "      <td>4</td>\n",
              "      <td>20.000000</td>\n",
              "    </tr>\n",
              "    <tr>\n",
              "      <th>LGBTQ Nation</th>\n",
              "      <td>https://www.allsides.com/news-source/lgbtq-nat...</td>\n",
              "      <td>left-center</td>\n",
              "      <td>11</td>\n",
              "      <td>55</td>\n",
              "      <td>16.666667</td>\n",
              "    </tr>\n",
              "    <tr>\n",
              "      <th>Redlands Daily Facts</th>\n",
              "      <td>https://www.allsides.com/news-source/redlands-...</td>\n",
              "      <td>center</td>\n",
              "      <td>0</td>\n",
              "      <td>3</td>\n",
              "      <td>0.000000</td>\n",
              "    </tr>\n",
              "    <tr>\n",
              "      <th>Rod Blagojevich</th>\n",
              "      <td>https://www.allsides.com/news-source/rod-blago...</td>\n",
              "      <td>center</td>\n",
              "      <td>20</td>\n",
              "      <td>95</td>\n",
              "      <td>17.391304</td>\n",
              "    </tr>\n",
              "    <tr>\n",
              "      <th>The Lincoln Project</th>\n",
              "      <td>https://www.allsides.com/news-source/lincoln-p...</td>\n",
              "      <td>allsides</td>\n",
              "      <td>2</td>\n",
              "      <td>10</td>\n",
              "      <td>16.666667</td>\n",
              "    </tr>\n",
              "    <tr>\n",
              "      <th>The Press-Enterprise</th>\n",
              "      <td>https://www.allsides.com/news-source/press-ent...</td>\n",
              "      <td>right-center</td>\n",
              "      <td>0</td>\n",
              "      <td>5</td>\n",
              "      <td>0.000000</td>\n",
              "    </tr>\n",
              "  </tbody>\n",
              "</table>\n",
              "</div>"
            ],
            "text/plain": [
              "                                                              name_link  ...   like_bar\n",
              "name                                                                     ...           \n",
              "Daily Breeze          https://www.allsides.com/news-source/daily-bre...  ...  11.111111\n",
              "GLAAD                 https://www.allsides.com/news-source/glaad-med...  ...  17.021277\n",
              "Joe Scarborough       https://www.allsides.com/news-source/joe-scarb...  ...  18.412439\n",
              "Kenosha News          https://www.allsides.com/news-source/kenosha-n...  ...  20.000000\n",
              "LGBTQ Nation          https://www.allsides.com/news-source/lgbtq-nat...  ...  16.666667\n",
              "Redlands Daily Facts  https://www.allsides.com/news-source/redlands-...  ...   0.000000\n",
              "Rod Blagojevich       https://www.allsides.com/news-source/rod-blago...  ...  17.391304\n",
              "The Lincoln Project   https://www.allsides.com/news-source/lincoln-p...  ...  16.666667\n",
              "The Press-Enterprise  https://www.allsides.com/news-source/press-ent...  ...   0.000000\n",
              "\n",
              "[9 rows x 5 columns]"
            ]
          },
          "metadata": {
            "tags": []
          },
          "execution_count": 49
        }
      ]
    },
    {
      "cell_type": "code",
      "metadata": {
        "id": "0SoM0YMYooNc",
        "colab": {
          "base_uri": "https://localhost:8080/",
          "height": 377
        },
        "outputId": "dd02022f-45ec-45d9-fff9-0940e15c8ede"
      },
      "source": [
        "# only considering the top 10 news outlets\n",
        "\n",
        "df['total_votes'] = df['agree'] + df['disagree']\n",
        "df.sort_values('total_votes', ascending=False, inplace=True)\n",
        "\n",
        "df.head(10)"
      ],
      "execution_count": null,
      "outputs": [
        {
          "output_type": "execute_result",
          "data": {
            "text/html": [
              "<div>\n",
              "<style scoped>\n",
              "    .dataframe tbody tr th:only-of-type {\n",
              "        vertical-align: middle;\n",
              "    }\n",
              "\n",
              "    .dataframe tbody tr th {\n",
              "        vertical-align: top;\n",
              "    }\n",
              "\n",
              "    .dataframe thead th {\n",
              "        text-align: right;\n",
              "    }\n",
              "</style>\n",
              "<table border=\"1\" class=\"dataframe\">\n",
              "  <thead>\n",
              "    <tr style=\"text-align: right;\">\n",
              "      <th></th>\n",
              "      <th>name_link</th>\n",
              "      <th>bias</th>\n",
              "      <th>agree</th>\n",
              "      <th>disagree</th>\n",
              "      <th>like_bar</th>\n",
              "      <th>total_votes</th>\n",
              "    </tr>\n",
              "    <tr>\n",
              "      <th>name</th>\n",
              "      <th></th>\n",
              "      <th></th>\n",
              "      <th></th>\n",
              "      <th></th>\n",
              "      <th></th>\n",
              "      <th></th>\n",
              "    </tr>\n",
              "  </thead>\n",
              "  <tbody>\n",
              "    <tr>\n",
              "      <th>TheBlaze.com</th>\n",
              "      <td>https://www.allsides.com/news-source/theblaze-...</td>\n",
              "      <td>right</td>\n",
              "      <td>87568</td>\n",
              "      <td>73158</td>\n",
              "      <td>54.482784</td>\n",
              "      <td>160726</td>\n",
              "    </tr>\n",
              "    <tr>\n",
              "      <th>CNN (Web News)</th>\n",
              "      <td>https://www.allsides.com/news-source/cnn-media...</td>\n",
              "      <td>left-center</td>\n",
              "      <td>36796</td>\n",
              "      <td>39455</td>\n",
              "      <td>48.256416</td>\n",
              "      <td>76251</td>\n",
              "    </tr>\n",
              "    <tr>\n",
              "      <th>Fox News (Online)</th>\n",
              "      <td>https://www.allsides.com/news-source/fox-news-...</td>\n",
              "      <td>right-center</td>\n",
              "      <td>31466</td>\n",
              "      <td>39154</td>\n",
              "      <td>44.556783</td>\n",
              "      <td>70620</td>\n",
              "    </tr>\n",
              "    <tr>\n",
              "      <th>New York Times (Online News)</th>\n",
              "      <td>https://www.allsides.com/news-source/new-york-...</td>\n",
              "      <td>left-center</td>\n",
              "      <td>21923</td>\n",
              "      <td>31778</td>\n",
              "      <td>40.824193</td>\n",
              "      <td>53701</td>\n",
              "    </tr>\n",
              "    <tr>\n",
              "      <th>HuffPost</th>\n",
              "      <td>https://www.allsides.com/news-source/huffpost-...</td>\n",
              "      <td>left</td>\n",
              "      <td>28467</td>\n",
              "      <td>21175</td>\n",
              "      <td>57.344587</td>\n",
              "      <td>49642</td>\n",
              "    </tr>\n",
              "    <tr>\n",
              "      <th>Washington Post</th>\n",
              "      <td>https://www.allsides.com/news-source/washingto...</td>\n",
              "      <td>left-center</td>\n",
              "      <td>29954</td>\n",
              "      <td>19435</td>\n",
              "      <td>60.649132</td>\n",
              "      <td>49389</td>\n",
              "    </tr>\n",
              "    <tr>\n",
              "      <th>NPR Online News</th>\n",
              "      <td>https://www.allsides.com/news-source/npr-media...</td>\n",
              "      <td>center</td>\n",
              "      <td>25079</td>\n",
              "      <td>20727</td>\n",
              "      <td>54.750469</td>\n",
              "      <td>45806</td>\n",
              "    </tr>\n",
              "    <tr>\n",
              "      <th>Politico</th>\n",
              "      <td>https://www.allsides.com/news-source/politico-...</td>\n",
              "      <td>left-center</td>\n",
              "      <td>18652</td>\n",
              "      <td>25693</td>\n",
              "      <td>42.061112</td>\n",
              "      <td>44345</td>\n",
              "    </tr>\n",
              "    <tr>\n",
              "      <th>BBC News</th>\n",
              "      <td>https://www.allsides.com/news-source/bbc-news-...</td>\n",
              "      <td>center</td>\n",
              "      <td>20062</td>\n",
              "      <td>18055</td>\n",
              "      <td>52.632684</td>\n",
              "      <td>38117</td>\n",
              "    </tr>\n",
              "    <tr>\n",
              "      <th>Breitbart News</th>\n",
              "      <td>https://www.allsides.com/news-source/breitbart</td>\n",
              "      <td>right</td>\n",
              "      <td>28188</td>\n",
              "      <td>9654</td>\n",
              "      <td>74.488663</td>\n",
              "      <td>37842</td>\n",
              "    </tr>\n",
              "  </tbody>\n",
              "</table>\n",
              "</div>"
            ],
            "text/plain": [
              "                                                                      name_link  ... total_votes\n",
              "name                                                                             ...            \n",
              "TheBlaze.com                  https://www.allsides.com/news-source/theblaze-...  ...      160726\n",
              "CNN (Web News)                https://www.allsides.com/news-source/cnn-media...  ...       76251\n",
              "Fox News (Online)             https://www.allsides.com/news-source/fox-news-...  ...       70620\n",
              "New York Times (Online News)  https://www.allsides.com/news-source/new-york-...  ...       53701\n",
              "HuffPost                      https://www.allsides.com/news-source/huffpost-...  ...       49642\n",
              "Washington Post               https://www.allsides.com/news-source/washingto...  ...       49389\n",
              "NPR Online News               https://www.allsides.com/news-source/npr-media...  ...       45806\n",
              "Politico                      https://www.allsides.com/news-source/politico-...  ...       44345\n",
              "BBC News                      https://www.allsides.com/news-source/bbc-news-...  ...       38117\n",
              "Breitbart News                   https://www.allsides.com/news-source/breitbart  ...       37842\n",
              "\n",
              "[10 rows x 6 columns]"
            ]
          },
          "metadata": {
            "tags": []
          },
          "execution_count": 50
        }
      ]
    },
    {
      "cell_type": "code",
      "metadata": {
        "id": "_4hKi4zyo5sb",
        "colab": {
          "base_uri": "https://localhost:8080/",
          "height": 227
        },
        "outputId": "d793bbd5-d4ee-4773-bdbb-a9ed53f71d4c"
      },
      "source": [
        "# visualization\n",
        "import matplotlib.pyplot as plt\n",
        "plt.style.use('seaborn-darkgrid')\n",
        "\n",
        "df2 = df.head(25).copy()\n",
        "df2.head()"
      ],
      "execution_count": null,
      "outputs": [
        {
          "output_type": "execute_result",
          "data": {
            "text/html": [
              "<div>\n",
              "<style scoped>\n",
              "    .dataframe tbody tr th:only-of-type {\n",
              "        vertical-align: middle;\n",
              "    }\n",
              "\n",
              "    .dataframe tbody tr th {\n",
              "        vertical-align: top;\n",
              "    }\n",
              "\n",
              "    .dataframe thead th {\n",
              "        text-align: right;\n",
              "    }\n",
              "</style>\n",
              "<table border=\"1\" class=\"dataframe\">\n",
              "  <thead>\n",
              "    <tr style=\"text-align: right;\">\n",
              "      <th></th>\n",
              "      <th>name_link</th>\n",
              "      <th>bias</th>\n",
              "      <th>agree</th>\n",
              "      <th>disagree</th>\n",
              "      <th>like_bar</th>\n",
              "      <th>total_votes</th>\n",
              "    </tr>\n",
              "    <tr>\n",
              "      <th>name</th>\n",
              "      <th></th>\n",
              "      <th></th>\n",
              "      <th></th>\n",
              "      <th></th>\n",
              "      <th></th>\n",
              "      <th></th>\n",
              "    </tr>\n",
              "  </thead>\n",
              "  <tbody>\n",
              "    <tr>\n",
              "      <th>TheBlaze.com</th>\n",
              "      <td>https://www.allsides.com/news-source/theblaze-...</td>\n",
              "      <td>right</td>\n",
              "      <td>87568</td>\n",
              "      <td>73158</td>\n",
              "      <td>54.482784</td>\n",
              "      <td>160726</td>\n",
              "    </tr>\n",
              "    <tr>\n",
              "      <th>CNN (Web News)</th>\n",
              "      <td>https://www.allsides.com/news-source/cnn-media...</td>\n",
              "      <td>left-center</td>\n",
              "      <td>36796</td>\n",
              "      <td>39455</td>\n",
              "      <td>48.256416</td>\n",
              "      <td>76251</td>\n",
              "    </tr>\n",
              "    <tr>\n",
              "      <th>Fox News (Online)</th>\n",
              "      <td>https://www.allsides.com/news-source/fox-news-...</td>\n",
              "      <td>right-center</td>\n",
              "      <td>31466</td>\n",
              "      <td>39154</td>\n",
              "      <td>44.556783</td>\n",
              "      <td>70620</td>\n",
              "    </tr>\n",
              "    <tr>\n",
              "      <th>New York Times (Online News)</th>\n",
              "      <td>https://www.allsides.com/news-source/new-york-...</td>\n",
              "      <td>left-center</td>\n",
              "      <td>21923</td>\n",
              "      <td>31778</td>\n",
              "      <td>40.824193</td>\n",
              "      <td>53701</td>\n",
              "    </tr>\n",
              "    <tr>\n",
              "      <th>HuffPost</th>\n",
              "      <td>https://www.allsides.com/news-source/huffpost-...</td>\n",
              "      <td>left</td>\n",
              "      <td>28467</td>\n",
              "      <td>21175</td>\n",
              "      <td>57.344587</td>\n",
              "      <td>49642</td>\n",
              "    </tr>\n",
              "  </tbody>\n",
              "</table>\n",
              "</div>"
            ],
            "text/plain": [
              "                                                                      name_link  ... total_votes\n",
              "name                                                                             ...            \n",
              "TheBlaze.com                  https://www.allsides.com/news-source/theblaze-...  ...      160726\n",
              "CNN (Web News)                https://www.allsides.com/news-source/cnn-media...  ...       76251\n",
              "Fox News (Online)             https://www.allsides.com/news-source/fox-news-...  ...       70620\n",
              "New York Times (Online News)  https://www.allsides.com/news-source/new-york-...  ...       53701\n",
              "HuffPost                      https://www.allsides.com/news-source/huffpost-...  ...       49642\n",
              "\n",
              "[5 rows x 6 columns]"
            ]
          },
          "metadata": {
            "tags": []
          },
          "execution_count": 51
        }
      ]
    },
    {
      "cell_type": "code",
      "metadata": {
        "id": "18xDcIPRqPmv",
        "colab": {
          "base_uri": "https://localhost:8080/",
          "height": 774
        },
        "outputId": "865afb70-191e-4b83-c416-1394e7431c0a"
      },
      "source": [
        "fig, ax = plt.subplots(figsize=(20, 10))\n",
        "\n",
        "ax.bar(df2.index, df2['agree'], color='#5DAF83')\n",
        "ax.bar(df2.index, df2['disagree'], bottom=df2['agree'], color='#AF3B3B')\n",
        "\n",
        "ax.set_ylabel = 'Total feedback'\n",
        "\n",
        "plt.yticks(fontsize='x-large')\n",
        "plt.xticks(rotation=60, ha='right', fontsize='x-large', rotation_mode='anchor')\n",
        "\n",
        "plt.legend(['Agree', 'Disagree'], fontsize='xx-large')\n",
        "plt.title('AllSides Bias Rating vs. Community Feedback', fontsize='xx-large')\n",
        "plt.show()"
      ],
      "execution_count": null,
      "outputs": [
        {
          "output_type": "display_data",
          "data": {
            "image/png": "[encoded data removed]",
            "text/plain": [
              "<Figure size 1440x720 with 1 Axes>"
            ]
          },
          "metadata": {
            "tags": []
          }
        }
      ]
    }
  ]
}